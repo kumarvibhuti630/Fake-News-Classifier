{
  "nbformat": 4,
  "nbformat_minor": 0,
  "metadata": {
    "accelerator": "GPU",
    "colab": {
      "name": "Untitled3.ipynb",
      "provenance": [],
      "collapsed_sections": [],
      "authorship_tag": "ABX9TyMkBBUWVbVH7rjMGAMDeupN",
      "include_colab_link": true
    },
    "kernelspec": {
      "display_name": "Python 3",
      "name": "python3"
    }
  },
  "cells": [
    {
      "cell_type": "markdown",
      "metadata": {
        "id": "view-in-github",
        "colab_type": "text"
      },
      "source": [
        "<a href=\"https://colab.research.google.com/github/kumarvibhuti630/Fake-News-Classifier/blob/main/Untitled3.ipynb\" target=\"_parent\"><img src=\"https://colab.research.google.com/assets/colab-badge.svg\" alt=\"Open In Colab\"/></a>"
      ]
    },
    {
      "cell_type": "code",
      "metadata": {
        "colab": {
          "base_uri": "https://localhost:8080/"
        },
        "id": "BYYF4oBs6ftX",
        "outputId": "aab4fba3-63ca-497a-a7c7-9acdef81ccd6"
      },
      "source": [
        "from google.colab import drive\n",
        "drive.mount(\"/content/drive\")"
      ],
      "execution_count": null,
      "outputs": [
        {
          "output_type": "stream",
          "text": [
            "Mounted at /content/drive\n"
          ],
          "name": "stdout"
        }
      ]
    },
    {
      "cell_type": "markdown",
      "metadata": {
        "id": "1KQLxb6svx3r"
      },
      "source": [
        "# New Section"
      ]
    },
    {
      "cell_type": "code",
      "metadata": {
        "id": "J07wQVmk6rDi"
      },
      "source": [
        "train_path=\"/content/drive/My Drive/fake_news/train.csv\"\n",
        "test_path=\"/content/drive/My Drive/fake_news/test.csv\""
      ],
      "execution_count": null,
      "outputs": []
    },
    {
      "cell_type": "code",
      "metadata": {
        "id": "A3waCk_V78c8"
      },
      "source": [
        ""
      ],
      "execution_count": null,
      "outputs": []
    },
    {
      "cell_type": "code",
      "metadata": {
        "id": "QiGpignB7bkV"
      },
      "source": [
        "import pandas as pd\n",
        "import numpy as np\n",
        "import matplotlib.pyplot as plt"
      ],
      "execution_count": null,
      "outputs": []
    },
    {
      "cell_type": "code",
      "metadata": {
        "id": "R7rNHUsO8Z3r"
      },
      "source": [
        "train_df=pd.read_csv(train_path)\n",
        "test_df=pd.read_csv(test_path)"
      ],
      "execution_count": null,
      "outputs": []
    },
    {
      "cell_type": "code",
      "metadata": {
        "colab": {
          "base_uri": "https://localhost:8080/",
          "height": 204
        },
        "id": "A3wPd5ww9WI3",
        "outputId": "2b6171c1-4671-4463-bb55-db8eae9ebd8a"
      },
      "source": [
        "train_df.head(5)"
      ],
      "execution_count": null,
      "outputs": [
        {
          "output_type": "execute_result",
          "data": {
            "text/html": [
              "<div>\n",
              "<style scoped>\n",
              "    .dataframe tbody tr th:only-of-type {\n",
              "        vertical-align: middle;\n",
              "    }\n",
              "\n",
              "    .dataframe tbody tr th {\n",
              "        vertical-align: top;\n",
              "    }\n",
              "\n",
              "    .dataframe thead th {\n",
              "        text-align: right;\n",
              "    }\n",
              "</style>\n",
              "<table border=\"1\" class=\"dataframe\">\n",
              "  <thead>\n",
              "    <tr style=\"text-align: right;\">\n",
              "      <th></th>\n",
              "      <th>id</th>\n",
              "      <th>title</th>\n",
              "      <th>author</th>\n",
              "      <th>text</th>\n",
              "      <th>label</th>\n",
              "    </tr>\n",
              "  </thead>\n",
              "  <tbody>\n",
              "    <tr>\n",
              "      <th>0</th>\n",
              "      <td>0</td>\n",
              "      <td>House Dem Aide: We Didn’t Even See Comey’s Let...</td>\n",
              "      <td>Darrell Lucus</td>\n",
              "      <td>House Dem Aide: We Didn’t Even See Comey’s Let...</td>\n",
              "      <td>1</td>\n",
              "    </tr>\n",
              "    <tr>\n",
              "      <th>1</th>\n",
              "      <td>1</td>\n",
              "      <td>FLYNN: Hillary Clinton, Big Woman on Campus - ...</td>\n",
              "      <td>Daniel J. Flynn</td>\n",
              "      <td>Ever get the feeling your life circles the rou...</td>\n",
              "      <td>0</td>\n",
              "    </tr>\n",
              "    <tr>\n",
              "      <th>2</th>\n",
              "      <td>2</td>\n",
              "      <td>Why the Truth Might Get You Fired</td>\n",
              "      <td>Consortiumnews.com</td>\n",
              "      <td>Why the Truth Might Get You Fired October 29, ...</td>\n",
              "      <td>1</td>\n",
              "    </tr>\n",
              "    <tr>\n",
              "      <th>3</th>\n",
              "      <td>3</td>\n",
              "      <td>15 Civilians Killed In Single US Airstrike Hav...</td>\n",
              "      <td>Jessica Purkiss</td>\n",
              "      <td>Videos 15 Civilians Killed In Single US Airstr...</td>\n",
              "      <td>1</td>\n",
              "    </tr>\n",
              "    <tr>\n",
              "      <th>4</th>\n",
              "      <td>4</td>\n",
              "      <td>Iranian woman jailed for fictional unpublished...</td>\n",
              "      <td>Howard Portnoy</td>\n",
              "      <td>Print \\nAn Iranian woman has been sentenced to...</td>\n",
              "      <td>1</td>\n",
              "    </tr>\n",
              "  </tbody>\n",
              "</table>\n",
              "</div>"
            ],
            "text/plain": [
              "   id  ... label\n",
              "0   0  ...     1\n",
              "1   1  ...     0\n",
              "2   2  ...     1\n",
              "3   3  ...     1\n",
              "4   4  ...     1\n",
              "\n",
              "[5 rows x 5 columns]"
            ]
          },
          "metadata": {
            "tags": []
          },
          "execution_count": 5
        }
      ]
    },
    {
      "cell_type": "code",
      "metadata": {
        "colab": {
          "base_uri": "https://localhost:8080/",
          "height": 204
        },
        "id": "mjEJMdYN9dG6",
        "outputId": "e501e088-6b30-4896-8e66-924470089eaf"
      },
      "source": [
        "train_df.tail(5)"
      ],
      "execution_count": null,
      "outputs": [
        {
          "output_type": "execute_result",
          "data": {
            "text/html": [
              "<div>\n",
              "<style scoped>\n",
              "    .dataframe tbody tr th:only-of-type {\n",
              "        vertical-align: middle;\n",
              "    }\n",
              "\n",
              "    .dataframe tbody tr th {\n",
              "        vertical-align: top;\n",
              "    }\n",
              "\n",
              "    .dataframe thead th {\n",
              "        text-align: right;\n",
              "    }\n",
              "</style>\n",
              "<table border=\"1\" class=\"dataframe\">\n",
              "  <thead>\n",
              "    <tr style=\"text-align: right;\">\n",
              "      <th></th>\n",
              "      <th>id</th>\n",
              "      <th>title</th>\n",
              "      <th>author</th>\n",
              "      <th>text</th>\n",
              "      <th>label</th>\n",
              "    </tr>\n",
              "  </thead>\n",
              "  <tbody>\n",
              "    <tr>\n",
              "      <th>20795</th>\n",
              "      <td>20795</td>\n",
              "      <td>Rapper T.I.: Trump a ’Poster Child For White S...</td>\n",
              "      <td>Jerome Hudson</td>\n",
              "      <td>Rapper T. I. unloaded on black celebrities who...</td>\n",
              "      <td>0</td>\n",
              "    </tr>\n",
              "    <tr>\n",
              "      <th>20796</th>\n",
              "      <td>20796</td>\n",
              "      <td>N.F.L. Playoffs: Schedule, Matchups and Odds -...</td>\n",
              "      <td>Benjamin Hoffman</td>\n",
              "      <td>When the Green Bay Packers lost to the Washing...</td>\n",
              "      <td>0</td>\n",
              "    </tr>\n",
              "    <tr>\n",
              "      <th>20797</th>\n",
              "      <td>20797</td>\n",
              "      <td>Macy’s Is Said to Receive Takeover Approach by...</td>\n",
              "      <td>Michael J. de la Merced and Rachel Abrams</td>\n",
              "      <td>The Macy’s of today grew from the union of sev...</td>\n",
              "      <td>0</td>\n",
              "    </tr>\n",
              "    <tr>\n",
              "      <th>20798</th>\n",
              "      <td>20798</td>\n",
              "      <td>NATO, Russia To Hold Parallel Exercises In Bal...</td>\n",
              "      <td>Alex Ansary</td>\n",
              "      <td>NATO, Russia To Hold Parallel Exercises In Bal...</td>\n",
              "      <td>1</td>\n",
              "    </tr>\n",
              "    <tr>\n",
              "      <th>20799</th>\n",
              "      <td>20799</td>\n",
              "      <td>What Keeps the F-35 Alive</td>\n",
              "      <td>David Swanson</td>\n",
              "      <td>David Swanson is an author, activist, journa...</td>\n",
              "      <td>1</td>\n",
              "    </tr>\n",
              "  </tbody>\n",
              "</table>\n",
              "</div>"
            ],
            "text/plain": [
              "          id  ... label\n",
              "20795  20795  ...     0\n",
              "20796  20796  ...     0\n",
              "20797  20797  ...     0\n",
              "20798  20798  ...     1\n",
              "20799  20799  ...     1\n",
              "\n",
              "[5 rows x 5 columns]"
            ]
          },
          "metadata": {
            "tags": []
          },
          "execution_count": 6
        }
      ]
    },
    {
      "cell_type": "code",
      "metadata": {
        "colab": {
          "base_uri": "https://localhost:8080/",
          "height": 204
        },
        "id": "ulrXMc659gx6",
        "outputId": "a57fc0a7-c977-4e23-c508-04f32ece7f56"
      },
      "source": [
        "test_df.head(5)"
      ],
      "execution_count": null,
      "outputs": [
        {
          "output_type": "execute_result",
          "data": {
            "text/html": [
              "<div>\n",
              "<style scoped>\n",
              "    .dataframe tbody tr th:only-of-type {\n",
              "        vertical-align: middle;\n",
              "    }\n",
              "\n",
              "    .dataframe tbody tr th {\n",
              "        vertical-align: top;\n",
              "    }\n",
              "\n",
              "    .dataframe thead th {\n",
              "        text-align: right;\n",
              "    }\n",
              "</style>\n",
              "<table border=\"1\" class=\"dataframe\">\n",
              "  <thead>\n",
              "    <tr style=\"text-align: right;\">\n",
              "      <th></th>\n",
              "      <th>id</th>\n",
              "      <th>title</th>\n",
              "      <th>author</th>\n",
              "      <th>text</th>\n",
              "    </tr>\n",
              "  </thead>\n",
              "  <tbody>\n",
              "    <tr>\n",
              "      <th>0</th>\n",
              "      <td>20800</td>\n",
              "      <td>Specter of Trump Loosens Tongues, if Not Purse...</td>\n",
              "      <td>David Streitfeld</td>\n",
              "      <td>PALO ALTO, Calif.  —   After years of scorning...</td>\n",
              "    </tr>\n",
              "    <tr>\n",
              "      <th>1</th>\n",
              "      <td>20801</td>\n",
              "      <td>Russian warships ready to strike terrorists ne...</td>\n",
              "      <td>NaN</td>\n",
              "      <td>Russian warships ready to strike terrorists ne...</td>\n",
              "    </tr>\n",
              "    <tr>\n",
              "      <th>2</th>\n",
              "      <td>20802</td>\n",
              "      <td>#NoDAPL: Native American Leaders Vow to Stay A...</td>\n",
              "      <td>Common Dreams</td>\n",
              "      <td>Videos #NoDAPL: Native American Leaders Vow to...</td>\n",
              "    </tr>\n",
              "    <tr>\n",
              "      <th>3</th>\n",
              "      <td>20803</td>\n",
              "      <td>Tim Tebow Will Attempt Another Comeback, This ...</td>\n",
              "      <td>Daniel Victor</td>\n",
              "      <td>If at first you don’t succeed, try a different...</td>\n",
              "    </tr>\n",
              "    <tr>\n",
              "      <th>4</th>\n",
              "      <td>20804</td>\n",
              "      <td>Keiser Report: Meme Wars (E995)</td>\n",
              "      <td>Truth Broadcast Network</td>\n",
              "      <td>42 mins ago 1 Views 0 Comments 0 Likes 'For th...</td>\n",
              "    </tr>\n",
              "  </tbody>\n",
              "</table>\n",
              "</div>"
            ],
            "text/plain": [
              "      id  ...                                               text\n",
              "0  20800  ...  PALO ALTO, Calif.  —   After years of scorning...\n",
              "1  20801  ...  Russian warships ready to strike terrorists ne...\n",
              "2  20802  ...  Videos #NoDAPL: Native American Leaders Vow to...\n",
              "3  20803  ...  If at first you don’t succeed, try a different...\n",
              "4  20804  ...  42 mins ago 1 Views 0 Comments 0 Likes 'For th...\n",
              "\n",
              "[5 rows x 4 columns]"
            ]
          },
          "metadata": {
            "tags": []
          },
          "execution_count": 7
        }
      ]
    },
    {
      "cell_type": "code",
      "metadata": {
        "colab": {
          "base_uri": "https://localhost:8080/",
          "height": 204
        },
        "id": "VD6o1Mu29khi",
        "outputId": "65373ff5-d902-4923-d22f-9ab5abf46a3c"
      },
      "source": [
        "test_df.tail(5)"
      ],
      "execution_count": null,
      "outputs": [
        {
          "output_type": "execute_result",
          "data": {
            "text/html": [
              "<div>\n",
              "<style scoped>\n",
              "    .dataframe tbody tr th:only-of-type {\n",
              "        vertical-align: middle;\n",
              "    }\n",
              "\n",
              "    .dataframe tbody tr th {\n",
              "        vertical-align: top;\n",
              "    }\n",
              "\n",
              "    .dataframe thead th {\n",
              "        text-align: right;\n",
              "    }\n",
              "</style>\n",
              "<table border=\"1\" class=\"dataframe\">\n",
              "  <thead>\n",
              "    <tr style=\"text-align: right;\">\n",
              "      <th></th>\n",
              "      <th>id</th>\n",
              "      <th>title</th>\n",
              "      <th>author</th>\n",
              "      <th>text</th>\n",
              "    </tr>\n",
              "  </thead>\n",
              "  <tbody>\n",
              "    <tr>\n",
              "      <th>5195</th>\n",
              "      <td>25995</td>\n",
              "      <td>The Bangladeshi Traffic Jam That Never Ends - ...</td>\n",
              "      <td>Jody Rosen</td>\n",
              "      <td>Of all the dysfunctions that plague the world’...</td>\n",
              "    </tr>\n",
              "    <tr>\n",
              "      <th>5196</th>\n",
              "      <td>25996</td>\n",
              "      <td>John Kasich Signs One Abortion Bill in Ohio bu...</td>\n",
              "      <td>Sheryl Gay Stolberg</td>\n",
              "      <td>WASHINGTON  —   Gov. John Kasich of Ohio on Tu...</td>\n",
              "    </tr>\n",
              "    <tr>\n",
              "      <th>5197</th>\n",
              "      <td>25997</td>\n",
              "      <td>California Today: What, Exactly, Is in Your Su...</td>\n",
              "      <td>Mike McPhate</td>\n",
              "      <td>Good morning. (Want to get California Today by...</td>\n",
              "    </tr>\n",
              "    <tr>\n",
              "      <th>5198</th>\n",
              "      <td>25998</td>\n",
              "      <td>300 US Marines To Be Deployed To Russian Borde...</td>\n",
              "      <td>NaN</td>\n",
              "      <td>« Previous - Next » 300 US Marines To Be Deplo...</td>\n",
              "    </tr>\n",
              "    <tr>\n",
              "      <th>5199</th>\n",
              "      <td>25999</td>\n",
              "      <td>Awkward Sex, Onscreen and Off - The New York T...</td>\n",
              "      <td>Teddy Wayne</td>\n",
              "      <td>Perhaps you’ve seen the new TV series whose pi...</td>\n",
              "    </tr>\n",
              "  </tbody>\n",
              "</table>\n",
              "</div>"
            ],
            "text/plain": [
              "         id  ...                                               text\n",
              "5195  25995  ...  Of all the dysfunctions that plague the world’...\n",
              "5196  25996  ...  WASHINGTON  —   Gov. John Kasich of Ohio on Tu...\n",
              "5197  25997  ...  Good morning. (Want to get California Today by...\n",
              "5198  25998  ...  « Previous - Next » 300 US Marines To Be Deplo...\n",
              "5199  25999  ...  Perhaps you’ve seen the new TV series whose pi...\n",
              "\n",
              "[5 rows x 4 columns]"
            ]
          },
          "metadata": {
            "tags": []
          },
          "execution_count": 8
        }
      ]
    },
    {
      "cell_type": "code",
      "metadata": {
        "colab": {
          "base_uri": "https://localhost:8080/"
        },
        "id": "g3Ck8naM9trD",
        "outputId": "b96a2a0a-a120-4688-b8fe-c0b426efd4ed"
      },
      "source": [
        "print(\"Shape of train_data\",train_df.shape)\n",
        "print(\"Shape of test_data\",test_df.shape)"
      ],
      "execution_count": null,
      "outputs": [
        {
          "output_type": "stream",
          "text": [
            "Shape of train_data (20800, 5)\n",
            "Shape of test_data (5200, 4)\n"
          ],
          "name": "stdout"
        }
      ]
    },
    {
      "cell_type": "code",
      "metadata": {
        "colab": {
          "base_uri": "https://localhost:8080/"
        },
        "id": "kTMzt56L99UE",
        "outputId": "b23fc560-e833-4589-f237-3650f2c96109"
      },
      "source": [
        "train_df.info()"
      ],
      "execution_count": null,
      "outputs": [
        {
          "output_type": "stream",
          "text": [
            "<class 'pandas.core.frame.DataFrame'>\n",
            "RangeIndex: 20800 entries, 0 to 20799\n",
            "Data columns (total 5 columns):\n",
            " #   Column  Non-Null Count  Dtype \n",
            "---  ------  --------------  ----- \n",
            " 0   id      20800 non-null  int64 \n",
            " 1   title   20242 non-null  object\n",
            " 2   author  18843 non-null  object\n",
            " 3   text    20761 non-null  object\n",
            " 4   label   20800 non-null  int64 \n",
            "dtypes: int64(2), object(3)\n",
            "memory usage: 812.6+ KB\n"
          ],
          "name": "stdout"
        }
      ]
    },
    {
      "cell_type": "code",
      "metadata": {
        "colab": {
          "base_uri": "https://localhost:8080/"
        },
        "id": "-zzqqJbdEOy7",
        "outputId": "06ab5269-0c33-4e4e-c611-7d136ae39494"
      },
      "source": [
        "test_df.info()"
      ],
      "execution_count": null,
      "outputs": [
        {
          "output_type": "stream",
          "text": [
            "<class 'pandas.core.frame.DataFrame'>\n",
            "RangeIndex: 5200 entries, 0 to 5199\n",
            "Data columns (total 4 columns):\n",
            " #   Column  Non-Null Count  Dtype \n",
            "---  ------  --------------  ----- \n",
            " 0   id      5200 non-null   int64 \n",
            " 1   title   5078 non-null   object\n",
            " 2   author  4697 non-null   object\n",
            " 3   text    5193 non-null   object\n",
            "dtypes: int64(1), object(3)\n",
            "memory usage: 162.6+ KB\n"
          ],
          "name": "stdout"
        }
      ]
    },
    {
      "cell_type": "code",
      "metadata": {
        "id": "F89019we-m4w"
      },
      "source": [
        "train_df[\"Description\"]=train_df[\"title\"]+train_df[\"text\"]"
      ],
      "execution_count": null,
      "outputs": []
    },
    {
      "cell_type": "code",
      "metadata": {
        "id": "15Ui2TLJEVIu"
      },
      "source": [
        "test_df[\"Description\"]=train_df[\"title\"]+train_df[\"text\"]"
      ],
      "execution_count": null,
      "outputs": []
    },
    {
      "cell_type": "code",
      "metadata": {
        "colab": {
          "base_uri": "https://localhost:8080/",
          "height": 238
        },
        "id": "h1eR2y7u_LhQ",
        "outputId": "ecc99e88-b9ab-4e19-ef25-f8ee062e8d46"
      },
      "source": [
        "train_df.head(5)"
      ],
      "execution_count": null,
      "outputs": [
        {
          "output_type": "execute_result",
          "data": {
            "text/html": [
              "<div>\n",
              "<style scoped>\n",
              "    .dataframe tbody tr th:only-of-type {\n",
              "        vertical-align: middle;\n",
              "    }\n",
              "\n",
              "    .dataframe tbody tr th {\n",
              "        vertical-align: top;\n",
              "    }\n",
              "\n",
              "    .dataframe thead th {\n",
              "        text-align: right;\n",
              "    }\n",
              "</style>\n",
              "<table border=\"1\" class=\"dataframe\">\n",
              "  <thead>\n",
              "    <tr style=\"text-align: right;\">\n",
              "      <th></th>\n",
              "      <th>id</th>\n",
              "      <th>title</th>\n",
              "      <th>author</th>\n",
              "      <th>text</th>\n",
              "      <th>label</th>\n",
              "      <th>Description</th>\n",
              "    </tr>\n",
              "  </thead>\n",
              "  <tbody>\n",
              "    <tr>\n",
              "      <th>0</th>\n",
              "      <td>0</td>\n",
              "      <td>House Dem Aide: We Didn’t Even See Comey’s Let...</td>\n",
              "      <td>Darrell Lucus</td>\n",
              "      <td>House Dem Aide: We Didn’t Even See Comey’s Let...</td>\n",
              "      <td>1</td>\n",
              "      <td>House Dem Aide: We Didn’t Even See Comey’s Let...</td>\n",
              "    </tr>\n",
              "    <tr>\n",
              "      <th>1</th>\n",
              "      <td>1</td>\n",
              "      <td>FLYNN: Hillary Clinton, Big Woman on Campus - ...</td>\n",
              "      <td>Daniel J. Flynn</td>\n",
              "      <td>Ever get the feeling your life circles the rou...</td>\n",
              "      <td>0</td>\n",
              "      <td>FLYNN: Hillary Clinton, Big Woman on Campus - ...</td>\n",
              "    </tr>\n",
              "    <tr>\n",
              "      <th>2</th>\n",
              "      <td>2</td>\n",
              "      <td>Why the Truth Might Get You Fired</td>\n",
              "      <td>Consortiumnews.com</td>\n",
              "      <td>Why the Truth Might Get You Fired October 29, ...</td>\n",
              "      <td>1</td>\n",
              "      <td>Why the Truth Might Get You FiredWhy the Truth...</td>\n",
              "    </tr>\n",
              "    <tr>\n",
              "      <th>3</th>\n",
              "      <td>3</td>\n",
              "      <td>15 Civilians Killed In Single US Airstrike Hav...</td>\n",
              "      <td>Jessica Purkiss</td>\n",
              "      <td>Videos 15 Civilians Killed In Single US Airstr...</td>\n",
              "      <td>1</td>\n",
              "      <td>15 Civilians Killed In Single US Airstrike Hav...</td>\n",
              "    </tr>\n",
              "    <tr>\n",
              "      <th>4</th>\n",
              "      <td>4</td>\n",
              "      <td>Iranian woman jailed for fictional unpublished...</td>\n",
              "      <td>Howard Portnoy</td>\n",
              "      <td>Print \\nAn Iranian woman has been sentenced to...</td>\n",
              "      <td>1</td>\n",
              "      <td>Iranian woman jailed for fictional unpublished...</td>\n",
              "    </tr>\n",
              "  </tbody>\n",
              "</table>\n",
              "</div>"
            ],
            "text/plain": [
              "   id  ...                                        Description\n",
              "0   0  ...  House Dem Aide: We Didn’t Even See Comey’s Let...\n",
              "1   1  ...  FLYNN: Hillary Clinton, Big Woman on Campus - ...\n",
              "2   2  ...  Why the Truth Might Get You FiredWhy the Truth...\n",
              "3   3  ...  15 Civilians Killed In Single US Airstrike Hav...\n",
              "4   4  ...  Iranian woman jailed for fictional unpublished...\n",
              "\n",
              "[5 rows x 6 columns]"
            ]
          },
          "metadata": {
            "tags": []
          },
          "execution_count": 14
        }
      ]
    },
    {
      "cell_type": "code",
      "metadata": {
        "colab": {
          "base_uri": "https://localhost:8080/",
          "height": 255
        },
        "id": "l2csVBDREb2C",
        "outputId": "887e3573-5863-403f-da4d-3ccdf2a05179"
      },
      "source": [
        "test_df.head(5)"
      ],
      "execution_count": null,
      "outputs": [
        {
          "output_type": "execute_result",
          "data": {
            "text/html": [
              "<div>\n",
              "<style scoped>\n",
              "    .dataframe tbody tr th:only-of-type {\n",
              "        vertical-align: middle;\n",
              "    }\n",
              "\n",
              "    .dataframe tbody tr th {\n",
              "        vertical-align: top;\n",
              "    }\n",
              "\n",
              "    .dataframe thead th {\n",
              "        text-align: right;\n",
              "    }\n",
              "</style>\n",
              "<table border=\"1\" class=\"dataframe\">\n",
              "  <thead>\n",
              "    <tr style=\"text-align: right;\">\n",
              "      <th></th>\n",
              "      <th>id</th>\n",
              "      <th>title</th>\n",
              "      <th>author</th>\n",
              "      <th>text</th>\n",
              "      <th>Description</th>\n",
              "    </tr>\n",
              "  </thead>\n",
              "  <tbody>\n",
              "    <tr>\n",
              "      <th>0</th>\n",
              "      <td>20800</td>\n",
              "      <td>Specter of Trump Loosens Tongues, if Not Purse...</td>\n",
              "      <td>David Streitfeld</td>\n",
              "      <td>PALO ALTO, Calif.  —   After years of scorning...</td>\n",
              "      <td>House Dem Aide: We Didn’t Even See Comey’s Let...</td>\n",
              "    </tr>\n",
              "    <tr>\n",
              "      <th>1</th>\n",
              "      <td>20801</td>\n",
              "      <td>Russian warships ready to strike terrorists ne...</td>\n",
              "      <td>NaN</td>\n",
              "      <td>Russian warships ready to strike terrorists ne...</td>\n",
              "      <td>FLYNN: Hillary Clinton, Big Woman on Campus - ...</td>\n",
              "    </tr>\n",
              "    <tr>\n",
              "      <th>2</th>\n",
              "      <td>20802</td>\n",
              "      <td>#NoDAPL: Native American Leaders Vow to Stay A...</td>\n",
              "      <td>Common Dreams</td>\n",
              "      <td>Videos #NoDAPL: Native American Leaders Vow to...</td>\n",
              "      <td>Why the Truth Might Get You FiredWhy the Truth...</td>\n",
              "    </tr>\n",
              "    <tr>\n",
              "      <th>3</th>\n",
              "      <td>20803</td>\n",
              "      <td>Tim Tebow Will Attempt Another Comeback, This ...</td>\n",
              "      <td>Daniel Victor</td>\n",
              "      <td>If at first you don’t succeed, try a different...</td>\n",
              "      <td>15 Civilians Killed In Single US Airstrike Hav...</td>\n",
              "    </tr>\n",
              "    <tr>\n",
              "      <th>4</th>\n",
              "      <td>20804</td>\n",
              "      <td>Keiser Report: Meme Wars (E995)</td>\n",
              "      <td>Truth Broadcast Network</td>\n",
              "      <td>42 mins ago 1 Views 0 Comments 0 Likes 'For th...</td>\n",
              "      <td>Iranian woman jailed for fictional unpublished...</td>\n",
              "    </tr>\n",
              "  </tbody>\n",
              "</table>\n",
              "</div>"
            ],
            "text/plain": [
              "      id  ...                                        Description\n",
              "0  20800  ...  House Dem Aide: We Didn’t Even See Comey’s Let...\n",
              "1  20801  ...  FLYNN: Hillary Clinton, Big Woman on Campus - ...\n",
              "2  20802  ...  Why the Truth Might Get You FiredWhy the Truth...\n",
              "3  20803  ...  15 Civilians Killed In Single US Airstrike Hav...\n",
              "4  20804  ...  Iranian woman jailed for fictional unpublished...\n",
              "\n",
              "[5 rows x 5 columns]"
            ]
          },
          "metadata": {
            "tags": []
          },
          "execution_count": 15
        }
      ]
    },
    {
      "cell_type": "code",
      "metadata": {
        "colab": {
          "base_uri": "https://localhost:8080/"
        },
        "id": "N2Lpp1eL_ThQ",
        "outputId": "c3e7ecf0-8499-4fdb-9b3c-6e41771fd0cf"
      },
      "source": [
        "train_df.info()"
      ],
      "execution_count": null,
      "outputs": [
        {
          "output_type": "stream",
          "text": [
            "<class 'pandas.core.frame.DataFrame'>\n",
            "RangeIndex: 20800 entries, 0 to 20799\n",
            "Data columns (total 6 columns):\n",
            " #   Column       Non-Null Count  Dtype \n",
            "---  ------       --------------  ----- \n",
            " 0   id           20800 non-null  int64 \n",
            " 1   title        20242 non-null  object\n",
            " 2   author       18843 non-null  object\n",
            " 3   text         20761 non-null  object\n",
            " 4   label        20800 non-null  int64 \n",
            " 5   Description  20203 non-null  object\n",
            "dtypes: int64(2), object(4)\n",
            "memory usage: 975.1+ KB\n"
          ],
          "name": "stdout"
        }
      ]
    },
    {
      "cell_type": "code",
      "metadata": {
        "colab": {
          "base_uri": "https://localhost:8080/"
        },
        "id": "4Jbqzx_jEjzx",
        "outputId": "6af3409c-c279-4bf8-9978-16945aad3dbe"
      },
      "source": [
        "test_df.info()"
      ],
      "execution_count": null,
      "outputs": [
        {
          "output_type": "stream",
          "text": [
            "<class 'pandas.core.frame.DataFrame'>\n",
            "RangeIndex: 5200 entries, 0 to 5199\n",
            "Data columns (total 5 columns):\n",
            " #   Column       Non-Null Count  Dtype \n",
            "---  ------       --------------  ----- \n",
            " 0   id           5200 non-null   int64 \n",
            " 1   title        5078 non-null   object\n",
            " 2   author       4697 non-null   object\n",
            " 3   text         5193 non-null   object\n",
            " 4   Description  5042 non-null   object\n",
            "dtypes: int64(1), object(4)\n",
            "memory usage: 203.2+ KB\n"
          ],
          "name": "stdout"
        }
      ]
    },
    {
      "cell_type": "code",
      "metadata": {
        "colab": {
          "base_uri": "https://localhost:8080/"
        },
        "id": "alZYvkps_muy",
        "outputId": "a079edbd-5af3-4f50-fadb-67bcc3947a3c"
      },
      "source": [
        "train_df.loc[train_df[\"title\"].isnull()==True,\"Description\"].isnull().sum()"
      ],
      "execution_count": null,
      "outputs": [
        {
          "output_type": "execute_result",
          "data": {
            "text/plain": [
              "558"
            ]
          },
          "metadata": {
            "tags": []
          },
          "execution_count": 18
        }
      ]
    },
    {
      "cell_type": "code",
      "metadata": {
        "colab": {
          "base_uri": "https://localhost:8080/"
        },
        "id": "yk94EoyZJEMy",
        "outputId": "c2e0611c-b34c-459f-ae2f-1fbe7a26bd6f"
      },
      "source": [
        "train_df.loc[:,\"title\"].isnull().sum()"
      ],
      "execution_count": null,
      "outputs": [
        {
          "output_type": "execute_result",
          "data": {
            "text/plain": [
              "558"
            ]
          },
          "metadata": {
            "tags": []
          },
          "execution_count": 19
        }
      ]
    },
    {
      "cell_type": "markdown",
      "metadata": {
        "id": "80IpQpwuEwwS"
      },
      "source": [
        "So, all nan values of title are replicated in Description"
      ]
    },
    {
      "cell_type": "code",
      "metadata": {
        "id": "xvQSammuA2Oj"
      },
      "source": [
        "train_df.loc[train_df.loc[:,\"Description\"].isnull()==True ,\"Description\"]=train_df[train_df.loc[:,\"Description\"].isnull()==True].apply(lambda x:x[\"text\"],axis=1)"
      ],
      "execution_count": null,
      "outputs": []
    },
    {
      "cell_type": "code",
      "metadata": {
        "id": "gQDI_n6Yb2_x"
      },
      "source": [
        "main_data.loc[main_data.apply(lambda x: x['reject_ind']==0,axis=1)==True,\"LASTMILE_DISTANCE\"]"
      ],
      "execution_count": null,
      "outputs": []
    },
    {
      "cell_type": "code",
      "metadata": {
        "id": "IY4tS61tPhAT"
      },
      "source": [
        "train_df.loc[train_df.loc[:,\"Description\"].isnull()==True ,\"Description\"]=train_df[train_df.loc[:,\"Description\"].isnull()==True].apply(lambda x:x[\"title\"],axis=1)"
      ],
      "execution_count": null,
      "outputs": []
    },
    {
      "cell_type": "code",
      "metadata": {
        "colab": {
          "base_uri": "https://localhost:8080/"
        },
        "id": "ZS2v7BFyCdmY",
        "outputId": "c55f6bee-a482-489a-e2d8-5fc4d70cdcd6"
      },
      "source": [
        "train_df.info()"
      ],
      "execution_count": null,
      "outputs": [
        {
          "output_type": "stream",
          "text": [
            "<class 'pandas.core.frame.DataFrame'>\n",
            "RangeIndex: 20800 entries, 0 to 20799\n",
            "Data columns (total 6 columns):\n",
            " #   Column       Non-Null Count  Dtype \n",
            "---  ------       --------------  ----- \n",
            " 0   id           20800 non-null  int64 \n",
            " 1   title        20242 non-null  object\n",
            " 2   author       18843 non-null  object\n",
            " 3   text         20761 non-null  object\n",
            " 4   label        20800 non-null  int64 \n",
            " 5   Description  20800 non-null  object\n",
            "dtypes: int64(2), object(4)\n",
            "memory usage: 975.1+ KB\n"
          ],
          "name": "stdout"
        }
      ]
    },
    {
      "cell_type": "code",
      "metadata": {
        "colab": {
          "base_uri": "https://localhost:8080/"
        },
        "id": "FnpAuoRLFDHK",
        "outputId": "ed1960bd-703d-4414-f165-a6b2541028b1"
      },
      "source": [
        "len(test_df.loc[test_df.loc[:,\"title\"].isnull()==True,\"Description\"])"
      ],
      "execution_count": null,
      "outputs": [
        {
          "output_type": "execute_result",
          "data": {
            "text/plain": [
              "122"
            ]
          },
          "metadata": {
            "tags": []
          },
          "execution_count": 23
        }
      ]
    },
    {
      "cell_type": "code",
      "metadata": {
        "colab": {
          "base_uri": "https://localhost:8080/"
        },
        "id": "Jf2W9PcTNq2r",
        "outputId": "e5c237de-33d0-44da-8797-cbe73c3cb781"
      },
      "source": [
        "test_df.loc[test_df.loc[:,\"title\"].isnull()==True,\"Description\"].isnull().sum()"
      ],
      "execution_count": null,
      "outputs": [
        {
          "output_type": "execute_result",
          "data": {
            "text/plain": [
              "3"
            ]
          },
          "metadata": {
            "tags": []
          },
          "execution_count": 24
        }
      ]
    },
    {
      "cell_type": "code",
      "metadata": {
        "id": "5n9NZ0pvF32y"
      },
      "source": [
        "test_df.loc[test_df.loc[:,\"Description\"].isnull()==True ,\"Description\"]=test_df[test_df.loc[:,\"Description\"].isnull()==True].apply(lambda x:x[\"text\"],axis=1)"
      ],
      "execution_count": null,
      "outputs": []
    },
    {
      "cell_type": "code",
      "metadata": {
        "id": "bXz35iGBGbOy"
      },
      "source": [
        "test_df.loc[test_df.loc[:,\"Description\"].isnull()==True ,\"Description\"]=test_df[test_df.loc[:,\"Description\"].isnull()==True].apply(lambda x:x[\"title\"],axis=1)"
      ],
      "execution_count": null,
      "outputs": []
    },
    {
      "cell_type": "code",
      "metadata": {
        "colab": {
          "base_uri": "https://localhost:8080/"
        },
        "id": "-kZYiSqDHEaH",
        "outputId": "96ee4c55-52c2-4ab6-9400-929f769d1091"
      },
      "source": [
        "test_df.info()"
      ],
      "execution_count": null,
      "outputs": [
        {
          "output_type": "stream",
          "text": [
            "<class 'pandas.core.frame.DataFrame'>\n",
            "RangeIndex: 5200 entries, 0 to 5199\n",
            "Data columns (total 5 columns):\n",
            " #   Column       Non-Null Count  Dtype \n",
            "---  ------       --------------  ----- \n",
            " 0   id           5200 non-null   int64 \n",
            " 1   title        5078 non-null   object\n",
            " 2   author       4697 non-null   object\n",
            " 3   text         5193 non-null   object\n",
            " 4   Description  5200 non-null   object\n",
            "dtypes: int64(1), object(4)\n",
            "memory usage: 203.2+ KB\n"
          ],
          "name": "stdout"
        }
      ]
    },
    {
      "cell_type": "code",
      "metadata": {
        "id": "eZoZEO7WCdoG"
      },
      "source": [
        "train_data=train_df.drop([\"title\",\"author\",\"text\",\"id\"],axis=1,inplace=False)"
      ],
      "execution_count": null,
      "outputs": []
    },
    {
      "cell_type": "code",
      "metadata": {
        "colab": {
          "base_uri": "https://localhost:8080/"
        },
        "id": "x_V46vA5CdrP",
        "outputId": "308164cf-fdf2-4212-9abb-1e4cbf209fa2"
      },
      "source": [
        "train_data.shape"
      ],
      "execution_count": null,
      "outputs": [
        {
          "output_type": "execute_result",
          "data": {
            "text/plain": [
              "(20800, 2)"
            ]
          },
          "metadata": {
            "tags": []
          },
          "execution_count": 29
        }
      ]
    },
    {
      "cell_type": "code",
      "metadata": {
        "id": "PitiSjDRCds3"
      },
      "source": [
        "test_data=test_df.drop([\"title\",\"author\",\"text\",\"id\"],axis=1,inplace=False)"
      ],
      "execution_count": null,
      "outputs": []
    },
    {
      "cell_type": "code",
      "metadata": {
        "colab": {
          "base_uri": "https://localhost:8080/"
        },
        "id": "IS_knLkbCdwo",
        "outputId": "82b8e792-e877-494a-b3ff-813339f9d7db"
      },
      "source": [
        "test_data.shape"
      ],
      "execution_count": null,
      "outputs": [
        {
          "output_type": "execute_result",
          "data": {
            "text/plain": [
              "(5200, 1)"
            ]
          },
          "metadata": {
            "tags": []
          },
          "execution_count": 31
        }
      ]
    },
    {
      "cell_type": "code",
      "metadata": {
        "id": "1myhAlpsRMDE"
      },
      "source": [
        "X_train=train_data.iloc[:,1]\n",
        "Y_train=train_data.iloc[:,0]"
      ],
      "execution_count": null,
      "outputs": []
    },
    {
      "cell_type": "code",
      "metadata": {
        "id": "hJPTyJhgZdPX"
      },
      "source": [
        "X_test=test_data.iloc[:,0]"
      ],
      "execution_count": null,
      "outputs": []
    },
    {
      "cell_type": "code",
      "metadata": {
        "id": "tDW63XXsRMGe"
      },
      "source": [
        "import tensorflow as tf"
      ],
      "execution_count": null,
      "outputs": []
    },
    {
      "cell_type": "code",
      "metadata": {
        "colab": {
          "base_uri": "https://localhost:8080/",
          "height": 35
        },
        "id": "jME1HMMJRMJf",
        "outputId": "8332d79e-c47f-4db8-fedf-bd1a84626300"
      },
      "source": [
        "tf.__version__"
      ],
      "execution_count": null,
      "outputs": [
        {
          "output_type": "execute_result",
          "data": {
            "application/vnd.google.colaboratory.intrinsic+json": {
              "type": "string"
            },
            "text/plain": [
              "'2.4.0'"
            ]
          },
          "metadata": {
            "tags": []
          },
          "execution_count": 35
        }
      ]
    },
    {
      "cell_type": "code",
      "metadata": {
        "id": "__UjoidwSaOV"
      },
      "source": [
        "from tensorflow.keras.preprocessing.sequence import pad_sequences\n",
        "from tensorflow.keras.preprocessing.text import one_hot"
      ],
      "execution_count": null,
      "outputs": []
    },
    {
      "cell_type": "code",
      "metadata": {
        "colab": {
          "base_uri": "https://localhost:8080/"
        },
        "id": "eFp1VV1VTVcg",
        "outputId": "af5f98b5-cb04-4399-e4cd-9c6636471419"
      },
      "source": [
        "X_train.head()"
      ],
      "execution_count": null,
      "outputs": [
        {
          "output_type": "execute_result",
          "data": {
            "text/plain": [
              "0    House Dem Aide: We Didn’t Even See Comey’s Let...\n",
              "1    FLYNN: Hillary Clinton, Big Woman on Campus - ...\n",
              "2    Why the Truth Might Get You FiredWhy the Truth...\n",
              "3    15 Civilians Killed In Single US Airstrike Hav...\n",
              "4    Iranian woman jailed for fictional unpublished...\n",
              "Name: Description, dtype: object"
            ]
          },
          "metadata": {
            "tags": []
          },
          "execution_count": 37
        }
      ]
    },
    {
      "cell_type": "markdown",
      "metadata": {
        "id": "9L-Mx_mmTp0d"
      },
      "source": [
        "**TEXT** **CLEANING**"
      ]
    },
    {
      "cell_type": "code",
      "metadata": {
        "id": "bxbJiRAFTwmT"
      },
      "source": [
        "import nltk\n",
        "import re\n",
        "from nltk.corpus import stopwords\n",
        "from nltk.stem.porter import PorterStemmer"
      ],
      "execution_count": null,
      "outputs": []
    },
    {
      "cell_type": "code",
      "metadata": {
        "colab": {
          "base_uri": "https://localhost:8080/"
        },
        "id": "VN6T4jlSTwpf",
        "outputId": "4d0c5cc1-eb48-4906-d7a9-625a81d8c459"
      },
      "source": [
        "nltk.download(\"stopwords\")"
      ],
      "execution_count": null,
      "outputs": [
        {
          "output_type": "stream",
          "text": [
            "[nltk_data] Downloading package stopwords to /root/nltk_data...\n",
            "[nltk_data]   Unzipping corpora/stopwords.zip.\n"
          ],
          "name": "stdout"
        },
        {
          "output_type": "execute_result",
          "data": {
            "text/plain": [
              "True"
            ]
          },
          "metadata": {
            "tags": []
          },
          "execution_count": 39
        }
      ]
    },
    {
      "cell_type": "code",
      "metadata": {
        "id": "af3JYrIcXCto"
      },
      "source": [
        "a=str(X_train[1])"
      ],
      "execution_count": null,
      "outputs": []
    },
    {
      "cell_type": "code",
      "metadata": {
        "colab": {
          "base_uri": "https://localhost:8080/",
          "height": 137
        },
        "id": "eNMk8ElWX9nZ",
        "outputId": "0311d528-3169-448b-8130-369e390dd7b2"
      },
      "source": [
        "a"
      ],
      "execution_count": null,
      "outputs": [
        {
          "output_type": "execute_result",
          "data": {
            "application/vnd.google.colaboratory.intrinsic+json": {
              "type": "string"
            },
            "text/plain": [
              "'FLYNN: Hillary Clinton, Big Woman on Campus - BreitbartEver get the feeling your life circles the roundabout rather than heads in a straight line toward the intended destination? [Hillary Clinton remains the big woman on campus in leafy, liberal Wellesley, Massachusetts. Everywhere else votes her most likely to don her inauguration dress for the remainder of her days the way Miss Havisham forever wore that wedding dress.  Speaking of Great Expectations, Hillary Rodham overflowed with them 48 years ago when she first addressed a Wellesley graduating class. The president of the college informed those gathered in 1969 that the students needed “no debate so far as I could ascertain as to who their spokesman was to be” (kind of the like the Democratic primaries in 2016 minus the   terms unknown then even at a Seven Sisters school). “I am very glad that Miss Adams made it clear that what I am speaking for today is all of us —  the 400 of us,” Miss Rodham told her classmates. After appointing herself Edger Bergen to the Charlie McCarthys and Mortimer Snerds in attendance, the    bespectacled in granny glasses (awarding her matronly wisdom —  or at least John Lennon wisdom) took issue with the previous speaker. Despite becoming the first   to win election to a seat in the U. S. Senate since Reconstruction, Edward Brooke came in for criticism for calling for “empathy” for the goals of protestors as he criticized tactics. Though Clinton in her senior thesis on Saul Alinsky lamented “Black Power demagogues” and “elitist arrogance and repressive intolerance” within the New Left, similar words coming out of a Republican necessitated a brief rebuttal. “Trust,” Rodham ironically observed in 1969, “this is one word that when I asked the class at our rehearsal what it was they wanted me to say for them, everyone came up to me and said ‘Talk about trust, talk about the lack of trust both for us and the way we feel about others. Talk about the trust bust.’ What can you say about it? What can you say about a feeling that permeates a generation and that perhaps is not even understood by those who are distrusted?” The “trust bust” certainly busted Clinton’s 2016 plans. She certainly did not even understand that people distrusted her. After Whitewater, Travelgate, the vast   conspiracy, Benghazi, and the missing emails, Clinton found herself the distrusted voice on Friday. There was a load of compromising on the road to the broadening of her political horizons. And distrust from the American people —  Trump edged her 48 percent to 38 percent on the question immediately prior to November’s election —  stood as a major reason for the closing of those horizons. Clinton described her vanquisher and his supporters as embracing a “lie,” a “con,” “alternative facts,” and “a   assault on truth and reason. ” She failed to explain why the American people chose his lies over her truth. “As the history majors among you here today know all too well, when people in power invent their own facts and attack those who question them, it can mark the beginning of the end of a free society,” she offered. “That is not hyperbole. ” Like so many people to emerge from the 1960s, Hillary Clinton embarked upon a long, strange trip. From high school Goldwater Girl and Wellesley College Republican president to Democratic politician, Clinton drank in the times and the place that gave her a degree. More significantly, she went from idealist to cynic, as a comparison of her two Wellesley commencement addresses show. Way back when, she lamented that “for too long our leaders have viewed politics as the art of the possible, and the challenge now is to practice politics as the art of making what appears to be impossible possible. ” Now, as the big woman on campus but the odd woman out of the White House, she wonders how her current station is even possible. “Why aren’t I 50 points ahead?” she asked in September. In May she asks why she isn’t president. The woman famously dubbed a “congenital liar” by Bill Safire concludes that lies did her in —  theirs, mind you, not hers. Getting stood up on Election Day, like finding yourself the jilted bride on your wedding day, inspires dangerous delusions.'"
            ]
          },
          "metadata": {
            "tags": []
          },
          "execution_count": 41
        }
      ]
    },
    {
      "cell_type": "code",
      "metadata": {
        "id": "NI-BhowUTwvE"
      },
      "source": [
        "def Text_cleaning(sentences):\n",
        "  ps=PorterStemmer()\n",
        "  lis=[]\n",
        "  \n",
        "  for i in range(len(sentences)):\n",
        "    msg=re.sub(\"[^a-zA-Z]\",\" \",str(sentences[i]))\n",
        "    msg=msg.lower()\n",
        "    msg=msg.split()\n",
        "    msg=[ps.stem(word) for word in msg if word not in stopwords.words(\"english\")]\n",
        "    msg=\" \".join(msg)\n",
        "    lis.append(msg)\n",
        "  return lis"
      ],
      "execution_count": null,
      "outputs": []
    },
    {
      "cell_type": "code",
      "metadata": {
        "id": "SMskeUpFTwxr"
      },
      "source": [
        "lis=Text_cleaning(X_train)"
      ],
      "execution_count": null,
      "outputs": []
    },
    {
      "cell_type": "code",
      "metadata": {
        "colab": {
          "base_uri": "https://localhost:8080/",
          "height": 137
        },
        "id": "oJ8KTqU3kO6n",
        "outputId": "a02aad4d-116d-40fd-f3f1-6cda2dd8b7c6"
      },
      "source": [
        "lis[1]"
      ],
      "execution_count": null,
      "outputs": [
        {
          "output_type": "execute_result",
          "data": {
            "application/vnd.google.colaboratory.intrinsic+json": {
              "type": "string"
            },
            "text/plain": [
              "'flynn hillari clinton big woman campu breitbartev get feel life circl roundabout rather head straight line toward intend destin hillari clinton remain big woman campu leafi liber wellesley massachusett everywher els vote like inaugur dress remaind day way miss havisham forev wore wed dress speak great expect hillari rodham overflow year ago first address wellesley graduat class presid colleg inform gather student need debat far could ascertain spokesman kind like democrat primari minu term unknown even seven sister school glad miss adam made clear speak today us us miss rodham told classmat appoint edger bergen charli mccarthi mortim snerd attend bespectacl granni glass award matronli wisdom least john lennon wisdom took issu previou speaker despit becom first win elect seat u senat sinc reconstruct edward brook came critic call empathi goal protestor critic tactic though clinton senior thesi saul alinski lament black power demagogu elitist arrog repress intoler within new left similar word come republican necessit brief rebutt trust rodham iron observ one word ask class rehears want say everyon came said talk trust talk lack trust us way feel other talk trust bust say say feel permeat gener perhap even understood distrust trust bust certainli bust clinton plan certainli even understand peopl distrust whitewat travelg vast conspiraci benghazi miss email clinton found distrust voic friday load compromis road broaden polit horizon distrust american peopl trump edg percent percent question immedi prior novemb elect stood major reason close horizon clinton describ vanquish support embrac lie con altern fact assault truth reason fail explain american peopl chose lie truth histori major among today know well peopl power invent fact attack question mark begin end free societi offer hyperbol like mani peopl emerg hillari clinton embark upon long strang trip high school goldwat girl wellesley colleg republican presid democrat politician clinton drank time place gave degre significantli went idealist cynic comparison two wellesley commenc address show way back lament long leader view polit art possibl challeng practic polit art make appear imposs possibl big woman campu odd woman white hous wonder current station even possibl point ahead ask septemb may ask presid woman famous dub congenit liar bill safir conclud lie mind get stood elect day like find jilt bride wed day inspir danger delus'"
            ]
          },
          "metadata": {
            "tags": []
          },
          "execution_count": 44
        }
      ]
    },
    {
      "cell_type": "code",
      "metadata": {
        "id": "x6MIVO6KkxNy"
      },
      "source": [
        "voc_size=30000"
      ],
      "execution_count": null,
      "outputs": []
    },
    {
      "cell_type": "code",
      "metadata": {
        "id": "KILC54Kek2rA"
      },
      "source": [
        "one_hotrepr=[one_hot(word,n=voc_size) for word in lis]"
      ],
      "execution_count": null,
      "outputs": []
    },
    {
      "cell_type": "code",
      "metadata": {
        "colab": {
          "base_uri": "https://localhost:8080/"
        },
        "id": "E46HB8mWmCBk",
        "outputId": "3e58c199-7a11-4f49-f1e5-d1f807518366"
      },
      "source": [
        "one_hotrepr[2]"
      ],
      "execution_count": null,
      "outputs": [
        {
          "output_type": "execute_result",
          "data": {
            "text/plain": [
              "[19435,\n",
              " 22953,\n",
              " 26339,\n",
              " 28649,\n",
              " 19435,\n",
              " 22953,\n",
              " 26339,\n",
              " 23139,\n",
              " 9187,\n",
              " 21578,\n",
              " 10816,\n",
              " 13659,\n",
              " 28147,\n",
              " 22166,\n",
              " 3983,\n",
              " 12708,\n",
              " 12759,\n",
              " 28772,\n",
              " 20084,\n",
              " 24225,\n",
              " 16377,\n",
              " 8512,\n",
              " 10231,\n",
              " 19188,\n",
              " 25649,\n",
              " 11084,\n",
              " 5887,\n",
              " 3048,\n",
              " 5887,\n",
              " 3048,\n",
              " 22953,\n",
              " 24623,\n",
              " 24026,\n",
              " 17255,\n",
              " 26271,\n",
              " 1652,\n",
              " 20705,\n",
              " 4637,\n",
              " 17813,\n",
              " 15054,\n",
              " 22953,\n",
              " 17110,\n",
              " 12533,\n",
              " 9377,\n",
              " 7674,\n",
              " 2399,\n",
              " 24093,\n",
              " 27371,\n",
              " 11499,\n",
              " 16387,\n",
              " 29948,\n",
              " 3567,\n",
              " 25429,\n",
              " 13031,\n",
              " 25774,\n",
              " 12096,\n",
              " 5668,\n",
              " 20920,\n",
              " 26297,\n",
              " 19188,\n",
              " 3876,\n",
              " 26303,\n",
              " 12577,\n",
              " 8067,\n",
              " 24993,\n",
              " 13570,\n",
              " 10183,\n",
              " 1397,\n",
              " 6132,\n",
              " 2406,\n",
              " 5908,\n",
              " 16774,\n",
              " 26284,\n",
              " 27094,\n",
              " 26284,\n",
              " 6092,\n",
              " 29457,\n",
              " 12832,\n",
              " 8067,\n",
              " 1918,\n",
              " 22366,\n",
              " 21547,\n",
              " 18226,\n",
              " 10034,\n",
              " 18528,\n",
              " 18988,\n",
              " 22818,\n",
              " 6598,\n",
              " 17341,\n",
              " 6010,\n",
              " 19493,\n",
              " 25774,\n",
              " 12096,\n",
              " 5668,\n",
              " 24427,\n",
              " 19493,\n",
              " 13252,\n",
              " 5666,\n",
              " 25992,\n",
              " 18214,\n",
              " 11921,\n",
              " 2027,\n",
              " 14111,\n",
              " 26730,\n",
              " 25774,\n",
              " 3792,\n",
              " 3345,\n",
              " 7403,\n",
              " 28144,\n",
              " 21298,\n",
              " 12817,\n",
              " 1706,\n",
              " 19102,\n",
              " 1823,\n",
              " 15711,\n",
              " 11722,\n",
              " 21816,\n",
              " 24893,\n",
              " 8350,\n",
              " 19188,\n",
              " 29790,\n",
              " 18404,\n",
              " 16774,\n",
              " 22649,\n",
              " 19493,\n",
              " 5668,\n",
              " 19426,\n",
              " 9579,\n",
              " 17420,\n",
              " 14679,\n",
              " 12713,\n",
              " 14024,\n",
              " 10805,\n",
              " 5668,\n",
              " 12954,\n",
              " 15588,\n",
              " 5407,\n",
              " 26944,\n",
              " 19962,\n",
              " 25224,\n",
              " 19188,\n",
              " 19451,\n",
              " 22489,\n",
              " 15441,\n",
              " 1397,\n",
              " 6132,\n",
              " 19481,\n",
              " 27360,\n",
              " 17851,\n",
              " 20309,\n",
              " 15883,\n",
              " 20626,\n",
              " 6913,\n",
              " 23411,\n",
              " 3235,\n",
              " 5712,\n",
              " 11124,\n",
              " 15624,\n",
              " 18115,\n",
              " 1292,\n",
              " 8949,\n",
              " 2051,\n",
              " 3028,\n",
              " 25649,\n",
              " 14827,\n",
              " 16774,\n",
              " 26284,\n",
              " 4057,\n",
              " 12772,\n",
              " 22897,\n",
              " 6654,\n",
              " 23411,\n",
              " 21547,\n",
              " 13306,\n",
              " 7946,\n",
              " 16951,\n",
              " 5430,\n",
              " 7891,\n",
              " 18902,\n",
              " 1397,\n",
              " 14037,\n",
              " 10204,\n",
              " 27360,\n",
              " 15511,\n",
              " 6907,\n",
              " 18693,\n",
              " 16405,\n",
              " 5668,\n",
              " 27358,\n",
              " 16774,\n",
              " 15860,\n",
              " 795,\n",
              " 27360,\n",
              " 24027,\n",
              " 2571,\n",
              " 23610,\n",
              " 3519,\n",
              " 20126,\n",
              " 4819,\n",
              " 27591,\n",
              " 27704,\n",
              " 19188,\n",
              " 20529,\n",
              " 24353,\n",
              " 4820,\n",
              " 13493,\n",
              " 1397,\n",
              " 16887,\n",
              " 16405,\n",
              " 29470,\n",
              " 26804,\n",
              " 11583,\n",
              " 26284,\n",
              " 363,\n",
              " 28772,\n",
              " 26944,\n",
              " 29470,\n",
              " 16774,\n",
              " 19188,\n",
              " 24388,\n",
              " 7163,\n",
              " 9658,\n",
              " 6650,\n",
              " 17191,\n",
              " 21682,\n",
              " 19941,\n",
              " 23062,\n",
              " 14037,\n",
              " 27956,\n",
              " 14346,\n",
              " 23703,\n",
              " 27360,\n",
              " 23971,\n",
              " 3574,\n",
              " 8981,\n",
              " 25649,\n",
              " 21491,\n",
              " 27360,\n",
              " 3831,\n",
              " 2639,\n",
              " 24093,\n",
              " 17295,\n",
              " 2491,\n",
              " 26284,\n",
              " 15234,\n",
              " 23696,\n",
              " 19188,\n",
              " 23411,\n",
              " 16774,\n",
              " 26284,\n",
              " 3331,\n",
              " 17116,\n",
              " 11517,\n",
              " 7089,\n",
              " 26284,\n",
              " 15234,\n",
              " 14241,\n",
              " 6478,\n",
              " 22434,\n",
              " 23411,\n",
              " 22832,\n",
              " 5668,\n",
              " 10552,\n",
              " 15681,\n",
              " 15875,\n",
              " 5716,\n",
              " 26421,\n",
              " 5668,\n",
              " 15728,\n",
              " 26297,\n",
              " 19188,\n",
              " 12644,\n",
              " 4937,\n",
              " 13570,\n",
              " 27360,\n",
              " 15234,\n",
              " 4150,\n",
              " 23887,\n",
              " 6478,\n",
              " 23411,\n",
              " 14163,\n",
              " 22547,\n",
              " 21108,\n",
              " 11517,\n",
              " 7089,\n",
              " 26284,\n",
              " 14037,\n",
              " 20529,\n",
              " 28369,\n",
              " 17583,\n",
              " 8716,\n",
              " 6152,\n",
              " 1479,\n",
              " 1210,\n",
              " 28508,\n",
              " 27360,\n",
              " 10816,\n",
              " 279,\n",
              " 25048,\n",
              " 21982,\n",
              " 15313,\n",
              " 13309,\n",
              " 8763,\n",
              " 6871,\n",
              " 26730,\n",
              " 29024,\n",
              " 10754,\n",
              " 22489,\n",
              " 1710,\n",
              " 28135,\n",
              " 16405,\n",
              " 26339,\n",
              " 795,\n",
              " 10816,\n",
              " 17583,\n",
              " 3876,\n",
              " 10816,\n",
              " 2599,\n",
              " 12146,\n",
              " 5407,\n",
              " 12711,\n",
              " 165,\n",
              " 29873,\n",
              " 24961,\n",
              " 28550,\n",
              " 23842,\n",
              " 307,\n",
              " 13526,\n",
              " 14111,\n",
              " 9985,\n",
              " 19399,\n",
              " 20210,\n",
              " 2224,\n",
              " 5371,\n",
              " 13953,\n",
              " 19792,\n",
              " 114,\n",
              " 14037,\n",
              " 17295,\n",
              " 13148,\n",
              " 26303,\n",
              " 19644,\n",
              " 14037,\n",
              " 18008,\n",
              " 18725,\n",
              " 15860,\n",
              " 13834,\n",
              " 7905,\n",
              " 8569,\n",
              " 13527,\n",
              " 11921,\n",
              " 26730,\n",
              " 17295,\n",
              " 10816,\n",
              " 7639,\n",
              " 19741,\n",
              " 2027,\n",
              " 29748,\n",
              " 21979,\n",
              " 16042,\n",
              " 27360,\n",
              " 10816,\n",
              " 279,\n",
              " 17295,\n",
              " 9568,\n",
              " 1479,\n",
              " 9997,\n",
              " 12557,\n",
              " 20084,\n",
              " 13796,\n",
              " 6119,\n",
              " 10816,\n",
              " 5673,\n",
              " 15494,\n",
              " 16763,\n",
              " 2027,\n",
              " 3331,\n",
              " 8716,\n",
              " 6152,\n",
              " 1479,\n",
              " 11520,\n",
              " 22953,\n",
              " 6522,\n",
              " 17295,\n",
              " 13911,\n",
              " 7987,\n",
              " 1050,\n",
              " 25010,\n",
              " 28357,\n",
              " 8716,\n",
              " 6152,\n",
              " 1479,\n",
              " 28170,\n",
              " 20546,\n",
              " 21786,\n",
              " 279,\n",
              " 12954,\n",
              " 11532,\n",
              " 20474,\n",
              " 17583,\n",
              " 19054,\n",
              " 7403,\n",
              " 26020,\n",
              " 14171,\n",
              " 9452,\n",
              " 21237,\n",
              " 10512,\n",
              " 18681,\n",
              " 14241,\n",
              " 22953,\n",
              " 17116,\n",
              " 20705,\n",
              " 9995,\n",
              " 12832,\n",
              " 7646,\n",
              " 3191,\n",
              " 28713,\n",
              " 3191,\n",
              " 26944,\n",
              " 26944,\n",
              " 15956,\n",
              " 795,\n",
              " 7639,\n",
              " 10214,\n",
              " 2642,\n",
              " 21682,\n",
              " 27360,\n",
              " 10816,\n",
              " 279,\n",
              " 15942,\n",
              " 28170,\n",
              " 16405,\n",
              " 16377,\n",
              " 17583,\n",
              " 7369,\n",
              " 21426,\n",
              " 17341,\n",
              " 10580,\n",
              " 10816,\n",
              " 2599,\n",
              " 21454,\n",
              " 11921,\n",
              " 25979,\n",
              " 14601,\n",
              " 6835,\n",
              " 19426,\n",
              " 26327,\n",
              " 19435,\n",
              " 14601,\n",
              " 22797,\n",
              " 17116,\n",
              " 12452,\n",
              " 5766,\n",
              " 23053,\n",
              " 2051,\n",
              " 19188,\n",
              " 1457,\n",
              " 5794,\n",
              " 19652,\n",
              " 8607,\n",
              " 27295,\n",
              " 26730,\n",
              " 17295,\n",
              " 10816,\n",
              " 16610,\n",
              " 3241,\n",
              " 19102,\n",
              " 28625,\n",
              " 19493,\n",
              " 22104,\n",
              " 19186,\n",
              " 18214,\n",
              " 11921,\n",
              " 23313,\n",
              " 2559,\n",
              " 17295,\n",
              " 13911,\n",
              " 15479,\n",
              " 7403,\n",
              " 11722,\n",
              " 26862,\n",
              " 11921,\n",
              " 26730,\n",
              " 17295,\n",
              " 10816,\n",
              " 89,\n",
              " 11800,\n",
              " 15334,\n",
              " 28550,\n",
              " 23842,\n",
              " 23566,\n",
              " 14601,\n",
              " 5473,\n",
              " 1436,\n",
              " 29526,\n",
              " 12207,\n",
              " 16377,\n",
              " 17828,\n",
              " 2194,\n",
              " 16304,\n",
              " 19544,\n",
              " 17420,\n",
              " 745,\n",
              " 5381,\n",
              " 3519,\n",
              " 9995,\n",
              " 10546,\n",
              " 795,\n",
              " 13659,\n",
              " 27466,\n",
              " 23845,\n",
              " 13430,\n",
              " 17295,\n",
              " 10816,\n",
              " 7242,\n",
              " 701,\n",
              " 8752,\n",
              " 2084,\n",
              " 27783,\n",
              " 27163,\n",
              " 25132,\n",
              " 10816,\n",
              " 279,\n",
              " 25256,\n",
              " 28549,\n",
              " 11532,\n",
              " 2926,\n",
              " 26339,\n",
              " 2821,\n",
              " 17583,\n",
              " 13430,\n",
              " 16651,\n",
              " 473,\n",
              " 19435,\n",
              " 11558,\n",
              " 473,\n",
              " 19435,\n",
              " 11082,\n",
              " 22953,\n",
              " 21602,\n",
              " 5415,\n",
              " 16405,\n",
              " 21602,\n",
              " 27910,\n",
              " 21602,\n",
              " 22649,\n",
              " 11683,\n",
              " 19435,\n",
              " 12659,\n",
              " 16910,\n",
              " 5062,\n",
              " 3519,\n",
              " 28147,\n",
              " 21541,\n",
              " 18976,\n",
              " 5062,\n",
              " 11082,\n",
              " 10816,\n",
              " 25979,\n",
              " 2491,\n",
              " 23566,\n",
              " 1436,\n",
              " 12759,\n",
              " 28984,\n",
              " 17255,\n",
              " 26271,\n",
              " 16377,\n",
              " 6765,\n",
              " 16511,\n",
              " 16034,\n",
              " 26145,\n",
              " 25572,\n",
              " 21541,\n",
              " 25270,\n",
              " 14601,\n",
              " 19054,\n",
              " 13353,\n",
              " 5716,\n",
              " 10034,\n",
              " 14868,\n",
              " 24027,\n",
              " 16910,\n",
              " 12954,\n",
              " 26944,\n",
              " 19705,\n",
              " 26826,\n",
              " 23008,\n",
              " 14037,\n",
              " 14163,\n",
              " 19652,\n",
              " 10020,\n",
              " 3620,\n",
              " 29893,\n",
              " 11047,\n",
              " 20230,\n",
              " 12127,\n",
              " 3831,\n",
              " 5794,\n",
              " 10012,\n",
              " 13570,\n",
              " 15765,\n",
              " 19399,\n",
              " 10821,\n",
              " 12832,\n",
              " 16511,\n",
              " 23789,\n",
              " 1457,\n",
              " 14878,\n",
              " 14124,\n",
              " 20920,\n",
              " 22251,\n",
              " 11594,\n",
              " 18979,\n",
              " 25649,\n",
              " 29326,\n",
              " 26339,\n",
              " 3132,\n",
              " 12038,\n",
              " 15624,\n",
              " 27113,\n",
              " 4610,\n",
              " 14144,\n",
              " 25010,\n",
              " 14606,\n",
              " 17173,\n",
              " 29470,\n",
              " 16405,\n",
              " 29873,\n",
              " 12954,\n",
              " 1836,\n",
              " 14967,\n",
              " 23071,\n",
              " 8716,\n",
              " 6152,\n",
              " 1479,\n",
              " 11520,\n",
              " 29966,\n",
              " 12759,\n",
              " 4211,\n",
              " 10816,\n",
              " 14439,\n",
              " 28713,\n",
              " 12954,\n",
              " 473,\n",
              " 4381,\n",
              " 9337,\n",
              " 3647,\n",
              " 26944,\n",
              " 22166,\n",
              " 2642,\n",
              " 15656,\n",
              " 13776,\n",
              " 21541,\n",
              " 21315,\n",
              " 29937,\n",
              " 21315,\n",
              " 14346,\n",
              " 20809,\n",
              " 4165,\n",
              " 8647,\n",
              " 29873,\n",
              " 7451,\n",
              " 5017,\n",
              " 18179,\n",
              " 11532,\n",
              " 16377,\n",
              " 10204,\n",
              " 5766,\n",
              " 27956,\n",
              " 22384,\n",
              " 20402,\n",
              " 10129,\n",
              " 29650,\n",
              " 25043,\n",
              " 2399,\n",
              " 29133,\n",
              " 24306,\n",
              " 10234,\n",
              " 1106,\n",
              " 5381,\n",
              " 11532,\n",
              " 20942,\n",
              " 701,\n",
              " 17341,\n",
              " 10580,\n",
              " 25979,\n",
              " 15087,\n",
              " 2491,\n",
              " 2026,\n",
              " 1436,\n",
              " 12759,\n",
              " 15390,\n",
              " 22649,\n",
              " 27287,\n",
              " 13031,\n",
              " 24121]"
            ]
          },
          "metadata": {
            "tags": []
          },
          "execution_count": 47
        }
      ]
    },
    {
      "cell_type": "code",
      "metadata": {
        "id": "4DlgpZKPiRUP"
      },
      "source": [
        ""
      ],
      "execution_count": null,
      "outputs": []
    },
    {
      "cell_type": "code",
      "metadata": {
        "id": "8Y8G-Ey_iRW-"
      },
      "source": [
        ""
      ],
      "execution_count": null,
      "outputs": []
    },
    {
      "cell_type": "code",
      "metadata": {
        "id": "gl7ms3tIiRZz"
      },
      "source": [
        ""
      ],
      "execution_count": null,
      "outputs": []
    },
    {
      "cell_type": "code",
      "metadata": {
        "id": "crW-MdGTiRce"
      },
      "source": [
        ""
      ],
      "execution_count": null,
      "outputs": []
    },
    {
      "cell_type": "code",
      "metadata": {
        "id": "WF3KgxoUiRgL"
      },
      "source": [
        ""
      ],
      "execution_count": null,
      "outputs": []
    },
    {
      "cell_type": "code",
      "metadata": {
        "id": "kMQNsr1tiRiq"
      },
      "source": [
        ""
      ],
      "execution_count": null,
      "outputs": []
    },
    {
      "cell_type": "code",
      "metadata": {
        "colab": {
          "base_uri": "https://localhost:8080/"
        },
        "id": "wlHrd_bemHc_",
        "outputId": "679ad087-7487-4476-92a1-19b095c95686"
      },
      "source": [
        "sent_length=50\n",
        "embedded_docs=pad_sequences(one_hotrepr,padding='pre',maxlen=sent_length)\n",
        "print(embedded_docs)"
      ],
      "execution_count": null,
      "outputs": [
        {
          "output_type": "stream",
          "text": [
            "[[ 7354 14861 20206 ... 14525 26311 15441]\n",
            " [28689 20505 28147 ... 12619 27704  5535]\n",
            " [ 3647 26944 22166 ... 27287 13031 24121]\n",
            " ...\n",
            " [19624  9486 11558 ... 13736  3964 24760]\n",
            " [14878   761  2821 ...  3605  2637 21182]\n",
            " [14584  3357  9862 ...   685 18770 14620]]\n"
          ],
          "name": "stdout"
        }
      ]
    },
    {
      "cell_type": "code",
      "metadata": {
        "colab": {
          "base_uri": "https://localhost:8080/"
        },
        "id": "dcskOw5un3nX",
        "outputId": "392fa4cd-4af8-4ddb-928f-77dab740177e"
      },
      "source": [
        "embedded_docs[0]"
      ],
      "execution_count": null,
      "outputs": [
        {
          "output_type": "execute_result",
          "data": {
            "text/plain": [
              "array([ 7354, 14861, 20206, 11658,  3275,   754,  9228, 15958, 12545,\n",
              "       24047, 19102, 12582, 23041, 15958, 24047, 19102, 29076,   840,\n",
              "       13730, 16863,  8158, 10012, 28772, 19942, 10999,   826,  9377,\n",
              "       14195,  9922, 19991,  8763, 23709,  8028, 14601,  7752, 16945,\n",
              "       16863, 27062, 20404, 12533, 25914, 14664, 15441, 19693,  2923,\n",
              "       29534,   280, 14525, 26311, 15441], dtype=int32)"
            ]
          },
          "metadata": {
            "tags": []
          },
          "execution_count": 49
        }
      ]
    },
    {
      "cell_type": "code",
      "metadata": {
        "colab": {
          "base_uri": "https://localhost:8080/",
          "height": 35
        },
        "id": "Zp_RL4LYRMMD",
        "outputId": "b5f2bee9-363b-4845-bd18-b015f5dacb27"
      },
      "source": [
        "import tensorflow as tf\n",
        "tf.__version__"
      ],
      "execution_count": null,
      "outputs": [
        {
          "output_type": "execute_result",
          "data": {
            "application/vnd.google.colaboratory.intrinsic+json": {
              "type": "string"
            },
            "text/plain": [
              "'2.4.0'"
            ]
          },
          "metadata": {
            "tags": []
          },
          "execution_count": 50
        }
      ]
    },
    {
      "cell_type": "code",
      "metadata": {
        "colab": {
          "base_uri": "https://localhost:8080/"
        },
        "id": "SWb31EcfpFRy",
        "outputId": "613c7bae-932e-44b0-ec31-daf1fcfb5d46"
      },
      "source": [
        "features=300\n",
        "model=tf.keras.Sequential([\n",
        "      tf.keras.layers.Embedding(input_dim=voc_size,output_dim=features,input_length=sent_length),\n",
        "      tf.keras.layers.Dropout(0.2),\n",
        "      tf.keras.layers.LSTM(units=100,return_sequences=True),\n",
        "      \n",
        "      tf.keras.layers.Dense(1,activation=\"sigmoid\")\n",
        "])\n",
        "model.compile(loss='binary_crossentropy',optimizer='adam',metrics=['accuracy'])\n",
        "print(model.summary())"
      ],
      "execution_count": null,
      "outputs": [
        {
          "output_type": "stream",
          "text": [
            "Model: \"sequential_2\"\n",
            "_________________________________________________________________\n",
            "Layer (type)                 Output Shape              Param #   \n",
            "=================================================================\n",
            "embedding_2 (Embedding)      (None, 50, 300)           9000000   \n",
            "_________________________________________________________________\n",
            "dropout_2 (Dropout)          (None, 50, 300)           0         \n",
            "_________________________________________________________________\n",
            "lstm_4 (LSTM)                (None, 50, 100)           160400    \n",
            "_________________________________________________________________\n",
            "dense_2 (Dense)              (None, 50, 1)             101       \n",
            "=================================================================\n",
            "Total params: 9,160,501\n",
            "Trainable params: 9,160,501\n",
            "Non-trainable params: 0\n",
            "_________________________________________________________________\n",
            "None\n"
          ],
          "name": "stdout"
        }
      ]
    },
    {
      "cell_type": "code",
      "metadata": {
        "id": "FfwPVU9prj_-",
        "colab": {
          "base_uri": "https://localhost:8080/"
        },
        "outputId": "bbf8bd89-9f78-4449-9d91-7e727b3fd9e1"
      },
      "source": [
        "print(Y_train.shape,embedded_docs.shape)"
      ],
      "execution_count": null,
      "outputs": [
        {
          "output_type": "stream",
          "text": [
            "(20800,) (20800, 50)\n"
          ],
          "name": "stdout"
        }
      ]
    },
    {
      "cell_type": "code",
      "metadata": {
        "id": "8fVCWExfTc9s"
      },
      "source": [
        ""
      ],
      "execution_count": null,
      "outputs": []
    },
    {
      "cell_type": "code",
      "metadata": {
        "id": "OeT9bw9WRMPF"
      },
      "source": [
        "X_training=np.array(embedded_docs)\n",
        "Y_training=np.array(Y_train)"
      ],
      "execution_count": null,
      "outputs": []
    },
    {
      "cell_type": "code",
      "metadata": {
        "id": "AUxU1kkwRMV5",
        "colab": {
          "base_uri": "https://localhost:8080/"
        },
        "outputId": "5de192d5-c8c7-4cc6-be9d-7fb95fd1b0c7"
      },
      "source": [
        "print(X_training.shape,Y_training.shape)"
      ],
      "execution_count": null,
      "outputs": [
        {
          "output_type": "stream",
          "text": [
            "(20800, 50) (20800,)\n"
          ],
          "name": "stdout"
        }
      ]
    },
    {
      "cell_type": "code",
      "metadata": {
        "id": "EF37H4IusV6B"
      },
      "source": [
        "from sklearn.model_selection import train_test_split\n",
        "Xtrain, Xtest, ytrain, ytest = train_test_split(X_training, Y_training, test_size=0.20, random_state=1)"
      ],
      "execution_count": null,
      "outputs": []
    },
    {
      "cell_type": "code",
      "metadata": {
        "id": "0ZanX7eqt0SI",
        "colab": {
          "base_uri": "https://localhost:8080/"
        },
        "outputId": "1e897187-f291-413c-ba9c-252b3dd8816e"
      },
      "source": [
        "model.fit(Xtrain,ytrain,validation_data=(Xtest,ytest),epochs=10,batch_size=64)"
      ],
      "execution_count": null,
      "outputs": [
        {
          "output_type": "stream",
          "text": [
            "Epoch 1/10\n",
            "260/260 [==============================] - 26s 94ms/step - loss: 0.5076 - accuracy: 0.7316 - val_loss: 0.4090 - val_accuracy: 0.8022\n",
            "Epoch 2/10\n",
            "260/260 [==============================] - 24s 92ms/step - loss: 0.3093 - accuracy: 0.8644 - val_loss: 0.4254 - val_accuracy: 0.7960\n",
            "Epoch 3/10\n",
            "260/260 [==============================] - 24s 92ms/step - loss: 0.2409 - accuracy: 0.8943 - val_loss: 0.4963 - val_accuracy: 0.7939\n",
            "Epoch 4/10\n",
            "260/260 [==============================] - 24s 92ms/step - loss: 0.2041 - accuracy: 0.9061 - val_loss: 0.5246 - val_accuracy: 0.7889\n",
            "Epoch 5/10\n",
            "260/260 [==============================] - 24s 91ms/step - loss: 0.1775 - accuracy: 0.9177 - val_loss: 0.6290 - val_accuracy: 0.7846\n",
            "Epoch 6/10\n",
            "260/260 [==============================] - 23s 90ms/step - loss: 0.1578 - accuracy: 0.9251 - val_loss: 0.6746 - val_accuracy: 0.7767\n",
            "Epoch 7/10\n",
            "260/260 [==============================] - 23s 90ms/step - loss: 0.1371 - accuracy: 0.9364 - val_loss: 0.8120 - val_accuracy: 0.7781\n",
            "Epoch 8/10\n",
            "260/260 [==============================] - 23s 90ms/step - loss: 0.1101 - accuracy: 0.9492 - val_loss: 1.0137 - val_accuracy: 0.7702\n",
            "Epoch 9/10\n",
            "260/260 [==============================] - 24s 91ms/step - loss: 0.1057 - accuracy: 0.9518 - val_loss: 1.0207 - val_accuracy: 0.7694\n",
            "Epoch 10/10\n",
            "260/260 [==============================] - 23s 90ms/step - loss: 0.0978 - accuracy: 0.9562 - val_loss: 1.0875 - val_accuracy: 0.7630\n"
          ],
          "name": "stdout"
        },
        {
          "output_type": "execute_result",
          "data": {
            "text/plain": [
              "<tensorflow.python.keras.callbacks.History at 0x7fe7d4cfc4e0>"
            ]
          },
          "metadata": {
            "tags": []
          },
          "execution_count": 83
        }
      ]
    },
    {
      "cell_type": "code",
      "metadata": {
        "id": "56_oyAESW436"
      },
      "source": [
        ""
      ],
      "execution_count": null,
      "outputs": []
    },
    {
      "cell_type": "markdown",
      "metadata": {
        "id": "M29pWfO8T0p3"
      },
      "source": [
        "**Prediction**"
      ]
    },
    {
      "cell_type": "code",
      "metadata": {
        "id": "moEQhwBjT6ae"
      },
      "source": [
        "ypred=model.predict(Xtrain)"
      ],
      "execution_count": null,
      "outputs": []
    },
    {
      "cell_type": "code",
      "metadata": {
        "colab": {
          "base_uri": "https://localhost:8080/"
        },
        "id": "P-4bHNbXW6Gh",
        "outputId": "1599de04-1b24-49ad-9a37-08768f1881a0"
      },
      "source": [
        "ypred[:2]"
      ],
      "execution_count": null,
      "outputs": [
        {
          "output_type": "execute_result",
          "data": {
            "text/plain": [
              "array([[[3.22361439e-01],\n",
              "        [2.44340867e-01],\n",
              "        [8.44609737e-03],\n",
              "        [3.62507477e-02],\n",
              "        [2.25203787e-03],\n",
              "        [4.70607280e-04],\n",
              "        [3.07119917e-04],\n",
              "        [2.79882574e-04],\n",
              "        [1.29149907e-04],\n",
              "        [1.25819497e-04],\n",
              "        [1.11823574e-04],\n",
              "        [1.78571907e-04],\n",
              "        [4.36463364e-04],\n",
              "        [2.52413098e-04],\n",
              "        [9.73643764e-05],\n",
              "        [9.92828282e-05],\n",
              "        [9.08527145e-05],\n",
              "        [1.85094032e-04],\n",
              "        [1.61493284e-04],\n",
              "        [1.09577733e-04],\n",
              "        [9.13116601e-05],\n",
              "        [1.28158907e-04],\n",
              "        [1.53738205e-04],\n",
              "        [1.10850124e-04],\n",
              "        [6.72112219e-05],\n",
              "        [5.75402628e-05],\n",
              "        [4.81950701e-05],\n",
              "        [5.06052784e-05],\n",
              "        [6.02847831e-05],\n",
              "        [5.96756836e-05],\n",
              "        [4.99747766e-05],\n",
              "        [4.78600887e-05],\n",
              "        [4.40311960e-05],\n",
              "        [4.09149397e-05],\n",
              "        [3.24657667e-05],\n",
              "        [2.99895983e-05],\n",
              "        [3.61802449e-05],\n",
              "        [5.88048097e-05],\n",
              "        [4.94180313e-05],\n",
              "        [3.41971281e-05],\n",
              "        [4.84068150e-05],\n",
              "        [4.14699134e-05],\n",
              "        [5.40461224e-05],\n",
              "        [4.51514643e-05],\n",
              "        [5.63568938e-05],\n",
              "        [5.81931272e-05],\n",
              "        [6.34085300e-05],\n",
              "        [1.07798958e-04],\n",
              "        [1.38007003e-04],\n",
              "        [5.96223836e-05]],\n",
              "\n",
              "       [[3.50536928e-02],\n",
              "        [1.00752421e-01],\n",
              "        [4.15231846e-03],\n",
              "        [6.18649414e-04],\n",
              "        [1.22717756e-04],\n",
              "        [1.50573425e-04],\n",
              "        [1.60028925e-04],\n",
              "        [7.05909260e-05],\n",
              "        [7.42548145e-05],\n",
              "        [3.92779548e-05],\n",
              "        [3.23426248e-05],\n",
              "        [3.77754586e-05],\n",
              "        [3.20450963e-05],\n",
              "        [2.75783932e-05],\n",
              "        [3.55482516e-05],\n",
              "        [3.79641169e-05],\n",
              "        [4.58745853e-05],\n",
              "        [3.90783389e-05],\n",
              "        [4.16855328e-05],\n",
              "        [4.39827272e-05],\n",
              "        [4.48135288e-05],\n",
              "        [3.78517288e-05],\n",
              "        [4.69782317e-05],\n",
              "        [5.20822323e-05],\n",
              "        [4.59681251e-05],\n",
              "        [4.91308310e-05],\n",
              "        [4.74828121e-05],\n",
              "        [5.22879600e-05],\n",
              "        [5.26030890e-05],\n",
              "        [5.96750033e-05],\n",
              "        [6.45435648e-05],\n",
              "        [9.92689093e-05],\n",
              "        [4.47269849e-05],\n",
              "        [4.22644589e-05],\n",
              "        [4.76941568e-05],\n",
              "        [3.23934619e-05],\n",
              "        [4.53494504e-05],\n",
              "        [4.76282476e-05],\n",
              "        [4.97300389e-05],\n",
              "        [6.07107722e-05],\n",
              "        [6.92370813e-05],\n",
              "        [6.74633920e-05],\n",
              "        [6.82939281e-05],\n",
              "        [4.76731911e-05],\n",
              "        [4.24643185e-05],\n",
              "        [4.50213192e-05],\n",
              "        [6.66826891e-05],\n",
              "        [7.70257684e-05],\n",
              "        [4.05108913e-05],\n",
              "        [6.32440351e-05]]], dtype=float32)"
            ]
          },
          "metadata": {
            "tags": []
          },
          "execution_count": 76
        }
      ]
    },
    {
      "cell_type": "code",
      "metadata": {
        "id": "QWNXc6cpUN2t"
      },
      "source": [
        "from sklearn.metrics import confusion_matrix"
      ],
      "execution_count": null,
      "outputs": []
    },
    {
      "cell_type": "code",
      "metadata": {
        "colab": {
          "base_uri": "https://localhost:8080/",
          "height": 306
        },
        "id": "IQJLTl_TUXhX",
        "outputId": "9d8bbd98-14f8-4379-8fcb-271d0af4c8ab"
      },
      "source": [
        "confusion_matrix(ytest,ypred)"
      ],
      "execution_count": null,
      "outputs": [
        {
          "output_type": "error",
          "ename": "ValueError",
          "evalue": "ignored",
          "traceback": [
            "\u001b[0;31m---------------------------------------------------------------------------\u001b[0m",
            "\u001b[0;31mValueError\u001b[0m                                Traceback (most recent call last)",
            "\u001b[0;32m<ipython-input-78-f5418e8785b5>\u001b[0m in \u001b[0;36m<module>\u001b[0;34m()\u001b[0m\n\u001b[0;32m----> 1\u001b[0;31m \u001b[0mconfusion_matrix\u001b[0m\u001b[0;34m(\u001b[0m\u001b[0mytest\u001b[0m\u001b[0;34m,\u001b[0m\u001b[0mypred\u001b[0m\u001b[0;34m)\u001b[0m\u001b[0;34m\u001b[0m\u001b[0;34m\u001b[0m\u001b[0m\n\u001b[0m",
            "\u001b[0;32m/usr/local/lib/python3.6/dist-packages/sklearn/metrics/_classification.py\u001b[0m in \u001b[0;36mconfusion_matrix\u001b[0;34m(y_true, y_pred, labels, sample_weight, normalize)\u001b[0m\n\u001b[1;32m    266\u001b[0m \u001b[0;34m\u001b[0m\u001b[0m\n\u001b[1;32m    267\u001b[0m     \"\"\"\n\u001b[0;32m--> 268\u001b[0;31m     \u001b[0my_type\u001b[0m\u001b[0;34m,\u001b[0m \u001b[0my_true\u001b[0m\u001b[0;34m,\u001b[0m \u001b[0my_pred\u001b[0m \u001b[0;34m=\u001b[0m \u001b[0m_check_targets\u001b[0m\u001b[0;34m(\u001b[0m\u001b[0my_true\u001b[0m\u001b[0;34m,\u001b[0m \u001b[0my_pred\u001b[0m\u001b[0;34m)\u001b[0m\u001b[0;34m\u001b[0m\u001b[0;34m\u001b[0m\u001b[0m\n\u001b[0m\u001b[1;32m    269\u001b[0m     \u001b[0;32mif\u001b[0m \u001b[0my_type\u001b[0m \u001b[0;32mnot\u001b[0m \u001b[0;32min\u001b[0m \u001b[0;34m(\u001b[0m\u001b[0;34m\"binary\"\u001b[0m\u001b[0;34m,\u001b[0m \u001b[0;34m\"multiclass\"\u001b[0m\u001b[0;34m)\u001b[0m\u001b[0;34m:\u001b[0m\u001b[0;34m\u001b[0m\u001b[0;34m\u001b[0m\u001b[0m\n\u001b[1;32m    270\u001b[0m         \u001b[0;32mraise\u001b[0m \u001b[0mValueError\u001b[0m\u001b[0;34m(\u001b[0m\u001b[0;34m\"%s is not supported\"\u001b[0m \u001b[0;34m%\u001b[0m \u001b[0my_type\u001b[0m\u001b[0;34m)\u001b[0m\u001b[0;34m\u001b[0m\u001b[0;34m\u001b[0m\u001b[0m\n",
            "\u001b[0;32m/usr/local/lib/python3.6/dist-packages/sklearn/metrics/_classification.py\u001b[0m in \u001b[0;36m_check_targets\u001b[0;34m(y_true, y_pred)\u001b[0m\n\u001b[1;32m     78\u001b[0m     \u001b[0my_pred\u001b[0m \u001b[0;34m:\u001b[0m \u001b[0marray\u001b[0m \u001b[0;32mor\u001b[0m \u001b[0mindicator\u001b[0m \u001b[0mmatrix\u001b[0m\u001b[0;34m\u001b[0m\u001b[0;34m\u001b[0m\u001b[0m\n\u001b[1;32m     79\u001b[0m     \"\"\"\n\u001b[0;32m---> 80\u001b[0;31m     \u001b[0mcheck_consistent_length\u001b[0m\u001b[0;34m(\u001b[0m\u001b[0my_true\u001b[0m\u001b[0;34m,\u001b[0m \u001b[0my_pred\u001b[0m\u001b[0;34m)\u001b[0m\u001b[0;34m\u001b[0m\u001b[0;34m\u001b[0m\u001b[0m\n\u001b[0m\u001b[1;32m     81\u001b[0m     \u001b[0mtype_true\u001b[0m \u001b[0;34m=\u001b[0m \u001b[0mtype_of_target\u001b[0m\u001b[0;34m(\u001b[0m\u001b[0my_true\u001b[0m\u001b[0;34m)\u001b[0m\u001b[0;34m\u001b[0m\u001b[0;34m\u001b[0m\u001b[0m\n\u001b[1;32m     82\u001b[0m     \u001b[0mtype_pred\u001b[0m \u001b[0;34m=\u001b[0m \u001b[0mtype_of_target\u001b[0m\u001b[0;34m(\u001b[0m\u001b[0my_pred\u001b[0m\u001b[0;34m)\u001b[0m\u001b[0;34m\u001b[0m\u001b[0;34m\u001b[0m\u001b[0m\n",
            "\u001b[0;32m/usr/local/lib/python3.6/dist-packages/sklearn/utils/validation.py\u001b[0m in \u001b[0;36mcheck_consistent_length\u001b[0;34m(*arrays)\u001b[0m\n\u001b[1;32m    210\u001b[0m     \u001b[0;32mif\u001b[0m \u001b[0mlen\u001b[0m\u001b[0;34m(\u001b[0m\u001b[0muniques\u001b[0m\u001b[0;34m)\u001b[0m \u001b[0;34m>\u001b[0m \u001b[0;36m1\u001b[0m\u001b[0;34m:\u001b[0m\u001b[0;34m\u001b[0m\u001b[0;34m\u001b[0m\u001b[0m\n\u001b[1;32m    211\u001b[0m         raise ValueError(\"Found input variables with inconsistent numbers of\"\n\u001b[0;32m--> 212\u001b[0;31m                          \" samples: %r\" % [int(l) for l in lengths])\n\u001b[0m\u001b[1;32m    213\u001b[0m \u001b[0;34m\u001b[0m\u001b[0m\n\u001b[1;32m    214\u001b[0m \u001b[0;34m\u001b[0m\u001b[0m\n",
            "\u001b[0;31mValueError\u001b[0m: Found input variables with inconsistent numbers of samples: [4160, 16640]"
          ]
        }
      ]
    },
    {
      "cell_type": "code",
      "metadata": {
        "colab": {
          "base_uri": "https://localhost:8080/"
        },
        "id": "rJyV4hvoVA7v",
        "outputId": "53e8e71c-7539-419d-e1a2-949a8cbe3988"
      },
      "source": [
        "len(ytest)"
      ],
      "execution_count": null,
      "outputs": [
        {
          "output_type": "execute_result",
          "data": {
            "text/plain": [
              "4160"
            ]
          },
          "metadata": {
            "tags": []
          },
          "execution_count": 66
        }
      ]
    },
    {
      "cell_type": "code",
      "metadata": {
        "colab": {
          "base_uri": "https://localhost:8080/",
          "height": 323
        },
        "id": "ahpp9iZ4UN-7",
        "outputId": "0e23decd-7ae3-4106-d0aa-53d5a87bd3f2"
      },
      "source": [
        "from sklearn.metrics import accuracy_score\n",
        "accuracy_score(ytest,ypred)"
      ],
      "execution_count": null,
      "outputs": [
        {
          "output_type": "error",
          "ename": "ValueError",
          "evalue": "ignored",
          "traceback": [
            "\u001b[0;31m---------------------------------------------------------------------------\u001b[0m",
            "\u001b[0;31mValueError\u001b[0m                                Traceback (most recent call last)",
            "\u001b[0;32m<ipython-input-61-68c86caf03b6>\u001b[0m in \u001b[0;36m<module>\u001b[0;34m()\u001b[0m\n\u001b[1;32m      1\u001b[0m \u001b[0;32mfrom\u001b[0m \u001b[0msklearn\u001b[0m\u001b[0;34m.\u001b[0m\u001b[0mmetrics\u001b[0m \u001b[0;32mimport\u001b[0m \u001b[0maccuracy_score\u001b[0m\u001b[0;34m\u001b[0m\u001b[0;34m\u001b[0m\u001b[0m\n\u001b[0;32m----> 2\u001b[0;31m \u001b[0maccuracy_score\u001b[0m\u001b[0;34m(\u001b[0m\u001b[0mytest\u001b[0m\u001b[0;34m,\u001b[0m\u001b[0mypred\u001b[0m\u001b[0;34m)\u001b[0m\u001b[0;34m\u001b[0m\u001b[0;34m\u001b[0m\u001b[0m\n\u001b[0m",
            "\u001b[0;32m/usr/local/lib/python3.6/dist-packages/sklearn/metrics/_classification.py\u001b[0m in \u001b[0;36maccuracy_score\u001b[0;34m(y_true, y_pred, normalize, sample_weight)\u001b[0m\n\u001b[1;32m    183\u001b[0m \u001b[0;34m\u001b[0m\u001b[0m\n\u001b[1;32m    184\u001b[0m     \u001b[0;31m# Compute accuracy for each possible representation\u001b[0m\u001b[0;34m\u001b[0m\u001b[0;34m\u001b[0m\u001b[0;34m\u001b[0m\u001b[0m\n\u001b[0;32m--> 185\u001b[0;31m     \u001b[0my_type\u001b[0m\u001b[0;34m,\u001b[0m \u001b[0my_true\u001b[0m\u001b[0;34m,\u001b[0m \u001b[0my_pred\u001b[0m \u001b[0;34m=\u001b[0m \u001b[0m_check_targets\u001b[0m\u001b[0;34m(\u001b[0m\u001b[0my_true\u001b[0m\u001b[0;34m,\u001b[0m \u001b[0my_pred\u001b[0m\u001b[0;34m)\u001b[0m\u001b[0;34m\u001b[0m\u001b[0;34m\u001b[0m\u001b[0m\n\u001b[0m\u001b[1;32m    186\u001b[0m     \u001b[0mcheck_consistent_length\u001b[0m\u001b[0;34m(\u001b[0m\u001b[0my_true\u001b[0m\u001b[0;34m,\u001b[0m \u001b[0my_pred\u001b[0m\u001b[0;34m,\u001b[0m \u001b[0msample_weight\u001b[0m\u001b[0;34m)\u001b[0m\u001b[0;34m\u001b[0m\u001b[0;34m\u001b[0m\u001b[0m\n\u001b[1;32m    187\u001b[0m     \u001b[0;32mif\u001b[0m \u001b[0my_type\u001b[0m\u001b[0;34m.\u001b[0m\u001b[0mstartswith\u001b[0m\u001b[0;34m(\u001b[0m\u001b[0;34m'multilabel'\u001b[0m\u001b[0;34m)\u001b[0m\u001b[0;34m:\u001b[0m\u001b[0;34m\u001b[0m\u001b[0;34m\u001b[0m\u001b[0m\n",
            "\u001b[0;32m/usr/local/lib/python3.6/dist-packages/sklearn/metrics/_classification.py\u001b[0m in \u001b[0;36m_check_targets\u001b[0;34m(y_true, y_pred)\u001b[0m\n\u001b[1;32m     88\u001b[0m     \u001b[0;32mif\u001b[0m \u001b[0mlen\u001b[0m\u001b[0;34m(\u001b[0m\u001b[0my_type\u001b[0m\u001b[0;34m)\u001b[0m \u001b[0;34m>\u001b[0m \u001b[0;36m1\u001b[0m\u001b[0;34m:\u001b[0m\u001b[0;34m\u001b[0m\u001b[0;34m\u001b[0m\u001b[0m\n\u001b[1;32m     89\u001b[0m         raise ValueError(\"Classification metrics can't handle a mix of {0} \"\n\u001b[0;32m---> 90\u001b[0;31m                          \"and {1} targets\".format(type_true, type_pred))\n\u001b[0m\u001b[1;32m     91\u001b[0m \u001b[0;34m\u001b[0m\u001b[0m\n\u001b[1;32m     92\u001b[0m     \u001b[0;31m# We can't have more than one value on y_type => The set is no more needed\u001b[0m\u001b[0;34m\u001b[0m\u001b[0;34m\u001b[0m\u001b[0;34m\u001b[0m\u001b[0m\n",
            "\u001b[0;31mValueError\u001b[0m: Classification metrics can't handle a mix of binary and unknown targets"
          ]
        }
      ]
    },
    {
      "cell_type": "code",
      "metadata": {
        "colab": {
          "base_uri": "https://localhost:8080/"
        },
        "id": "c6RjGt36iTHI",
        "outputId": "ef2ee32d-37e6-4e0b-e504-569090d3a679"
      },
      "source": [
        "\n",
        "def fun(str1,i,n):\n",
        "  if i==n-i-1 or i>n-i-1:\n",
        "    return True\n",
        "  if str1[i]==str1[n-i-1]:\n",
        "    return fun(str1,i+1,n)\n",
        "  else:\n",
        "    return False\n",
        "str1=\"aba\"\n",
        "n=len(str1)\n",
        "fun(str1,0,n)\n",
        "\n"
      ],
      "execution_count": null,
      "outputs": [
        {
          "output_type": "execute_result",
          "data": {
            "text/plain": [
              "True"
            ]
          },
          "metadata": {
            "tags": []
          },
          "execution_count": 1
        }
      ]
    },
    {
      "cell_type": "code",
      "metadata": {
        "colab": {
          "base_uri": "https://localhost:8080/"
        },
        "id": "KKPyX75fiTIw",
        "outputId": "c793b875-a6c4-4ec4-8a6e-659c2481f1ae"
      },
      "source": [
        "from collections import defaultdict\n",
        "\n",
        "def fun(lis,k):\n",
        "  dic=defaultdict(int)\n",
        "  n=len(lis)\n",
        "  for i in range(n):\n",
        "    if dic[k-int(lis[i])]>0:\n",
        "      return True,k-int(lis[i]),int(lis[i])\n",
        "    dic[lis[i]]+=1\n",
        "  return False\n",
        "lis=[1,4,6,2,\"123\"]\n",
        "k=1\n",
        "fun(lis,k)"
      ],
      "execution_count": null,
      "outputs": [
        {
          "output_type": "execute_result",
          "data": {
            "text/plain": [
              "False"
            ]
          },
          "metadata": {
            "tags": []
          },
          "execution_count": 5
        }
      ]
    },
    {
      "cell_type": "code",
      "metadata": {
        "id": "VnXOSVTYiTNM"
      },
      "source": [
        "empployee:-id,name,dep_id\n",
        "dep:-dep_id,dep_name,hod\n",
        "select employee.dep_id=dep.dep_id"
      ],
      "execution_count": null,
      "outputs": []
    },
    {
      "cell_type": "code",
      "metadata": {
        "id": "4If7L5M6iTQN"
      },
      "source": [
        ""
      ],
      "execution_count": null,
      "outputs": []
    },
    {
      "cell_type": "code",
      "metadata": {
        "id": "yPU5lKHbiTby",
        "colab": {
          "base_uri": "https://localhost:8080/"
        },
        "outputId": "a8980c3c-53b0-48f4-913f-8a49ae295bf3"
      },
      "source": [
        "def fun(x):\n",
        "  from math import ceil,sqrt\n",
        "  lis=[1,x]\n",
        "  for i in range(2,ceil(sqrt(x))+1):\n",
        "    if x%i==0:\n",
        "      lis.append(i)\n",
        "      lis.append(x//i)\n",
        "  lis=list(set(lis))\n",
        "  lis.sort()\n",
        "  print(*lis)\n",
        "fun(3000)\n",
        "\n"
      ],
      "execution_count": null,
      "outputs": [
        {
          "output_type": "stream",
          "text": [
            "1 2 3 4 5 6 8 10 12 15 20 24 25 30 40 50 60 75 100 120 125 150 200 250 300 375 500 600 750 1000 1500 3000\n"
          ],
          "name": "stdout"
        }
      ]
    },
    {
      "cell_type": "code",
      "metadata": {
        "colab": {
          "base_uri": "https://localhost:8080/"
        },
        "id": "SzICuBF5y88s",
        "outputId": "a303f85b-fbc5-48f9-87a5-ad8a36faf2e1"
      },
      "source": [
        "def fun(s1,s2):\n",
        "  if len(s1)!=len(s2):\n",
        "    return False\n",
        "  c=-1\n",
        "  for i in range(len(s1)):\n",
        "    if s2[0]==s1[i]:\n",
        "      c=i\n",
        "  if c==-1:\n",
        "    return False\n",
        "  n=len(s1)\n",
        "  i=c\n",
        "  j=0\n",
        "  while(i<n):\n",
        "    if s1[i]==s2[j]:\n",
        "      \n",
        "      i+=1\n",
        "      j+=1\n",
        "    else:\n",
        "      return False\n",
        "  i=0\n",
        "  while(i<c):\n",
        "    if s2[j]==s1[i]:\n",
        "      i+=1\n",
        "      j+=1\n",
        "    else:\n",
        "      return False\n",
        "  return True\n",
        "s1=\"abcd\"\n",
        "s2=\"cdab\"\n",
        "print(fun(s1,s2))\n",
        "s1=\"abcd\"\n",
        "s2=\"acbd\"\n",
        "print(fun(s1,s2))"
      ],
      "execution_count": null,
      "outputs": [
        {
          "output_type": "stream",
          "text": [
            "True\n",
            "False\n"
          ],
          "name": "stdout"
        }
      ]
    },
    {
      "cell_type": "code",
      "metadata": {
        "id": "AsyJK5cqy8-t"
      },
      "source": [
        ""
      ],
      "execution_count": null,
      "outputs": []
    },
    {
      "cell_type": "code",
      "metadata": {
        "id": "ypyGwnmWy9Cs"
      },
      "source": [
        ""
      ],
      "execution_count": null,
      "outputs": []
    },
    {
      "cell_type": "code",
      "metadata": {
        "id": "zRvVQD_Jy9FQ"
      },
      "source": [
        ""
      ],
      "execution_count": null,
      "outputs": []
    },
    {
      "cell_type": "code",
      "metadata": {
        "id": "jwEs9LV5y9IJ"
      },
      "source": [
        ""
      ],
      "execution_count": null,
      "outputs": []
    }
  ]
}